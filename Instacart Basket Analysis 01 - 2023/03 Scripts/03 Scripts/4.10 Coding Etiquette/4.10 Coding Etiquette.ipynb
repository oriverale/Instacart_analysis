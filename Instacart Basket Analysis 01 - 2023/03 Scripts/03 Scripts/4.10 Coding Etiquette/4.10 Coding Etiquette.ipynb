{
 "cells": [
  {
   "cell_type": "markdown",
   "id": "b5c7f246",
   "metadata": {},
   "source": [
    "# 4.10 Coding Etiquette"
   ]
  },
  {
   "cell_type": "markdown",
   "id": "a3e65978",
   "metadata": {},
   "source": [
    "#### The following analysis includes: \n",
    "1. Importing libraries and data set\n",
    "2. Considering  any security implications that might exist for this new data.\n",
    "3. Create a regional segmentation of the data. You’ll need to create a “Region” column based on the “State” column from your customers data set.\n",
    "    - 3.1 Determine whether there’s a difference in spending habits between the different U.S. regions\n",
    "4. Create an exclusion flag for low-activity customers (customers with less than 5 orders) and exclude them from the data. \n",
    "5.Create a profiling variable based on age, income, certain goods in the “department_id” column, and number of dependents.\n",
    "    - 5.1 Analyzing dataframe by age group \n",
    "\t- 5.2 Analyzing dataframe by income \n",
    "\t- 5.3 Analyzing dataframe by number of dependents\n",
    "\t- 5.4 Analyzing customers profile\n",
    "6. Create an appropriate visualization to show the distribution of profiles.\n",
    "7. Aggregate the max, mean, and min variables on a customer-profile level for usage frequency and expenditure.\n",
    "8. Compare your customer profiles with regions and departments.\n",
    "9. Produce suitable charts to illustrate your results and export them in your project folder.\n",
    "    - 9.1 Exporting dataframes\n",
    "    - 9.2 Exporting charts "
   ]
  },
  {
   "cell_type": "markdown",
   "id": "d79e4f09",
   "metadata": {},
   "source": [
    "### 1. Importing libraries and data set"
   ]
  },
  {
   "cell_type": "code",
   "execution_count": 7,
   "id": "aae9e637",
   "metadata": {},
   "outputs": [],
   "source": [
    "# Importing libraries \n",
    "import pandas as pd\n",
    "import numpy as np \n",
    "import os\n",
    "import matplotlib.pyplot as plt\n",
    "import seaborn as sns\n",
    "import scipy"
   ]
  },
  {
   "cell_type": "code",
   "execution_count": 8,
   "id": "465eea3a",
   "metadata": {},
   "outputs": [],
   "source": [
    "# Defining path \n",
    "path = r'C:\\Users\\ale_o\\OneDrive\\Escritorio\\Data Analytics\\5. Python\\Instacart Basket Analysis 01 - 2023 final'"
   ]
  },
  {
   "cell_type": "code",
   "execution_count": 9,
   "id": "9da1b19a",
   "metadata": {},
   "outputs": [],
   "source": [
    "# Importing files \n",
    "df_merged = pd.read_pickle(os.path.join(path, '02 Data', 'Prepared Data', 'ords_customers_merge.pkl'))\n",
    "df_departments = pd.read_csv(os.path.join(path, '02 Data', 'Prepared Data', 'departments_wrangled.csv'))"
   ]
  },
  {
   "cell_type": "code",
   "execution_count": 10,
   "id": "5260dcac",
   "metadata": {},
   "outputs": [
    {
     "data": {
      "text/plain": [
       "(32404859, 30)"
      ]
     },
     "execution_count": 10,
     "metadata": {},
     "output_type": "execute_result"
    }
   ],
   "source": [
    "#Checkind dataset shape \n",
    "df_merged.shape"
   ]
  },
  {
   "cell_type": "markdown",
   "id": "4ef6b883",
   "metadata": {},
   "source": [
    "### 2. Considering  any security implications that might exist for this new data."
   ]
  },
  {
   "cell_type": "code",
   "execution_count": 11,
   "id": "78299367",
   "metadata": {},
   "outputs": [
    {
     "data": {
      "text/html": [
       "<div>\n",
       "<style scoped>\n",
       "    .dataframe tbody tr th:only-of-type {\n",
       "        vertical-align: middle;\n",
       "    }\n",
       "\n",
       "    .dataframe tbody tr th {\n",
       "        vertical-align: top;\n",
       "    }\n",
       "\n",
       "    .dataframe thead th {\n",
       "        text-align: right;\n",
       "    }\n",
       "</style>\n",
       "<table border=\"1\" class=\"dataframe\">\n",
       "  <thead>\n",
       "    <tr style=\"text-align: right;\">\n",
       "      <th></th>\n",
       "      <th>order_id</th>\n",
       "      <th>user_id</th>\n",
       "      <th>order_number</th>\n",
       "      <th>orders_day_of_week</th>\n",
       "      <th>order_hour_of_day</th>\n",
       "      <th>days_since_prior_order</th>\n",
       "      <th>product_id</th>\n",
       "      <th>add_to_cart_order</th>\n",
       "      <th>reordered</th>\n",
       "      <th>product_name</th>\n",
       "      <th>...</th>\n",
       "      <th>name</th>\n",
       "      <th>last_name</th>\n",
       "      <th>gender</th>\n",
       "      <th>state</th>\n",
       "      <th>age</th>\n",
       "      <th>date_joined</th>\n",
       "      <th>n_dependants</th>\n",
       "      <th>fam_status</th>\n",
       "      <th>income</th>\n",
       "      <th>all_name</th>\n",
       "    </tr>\n",
       "  </thead>\n",
       "  <tbody>\n",
       "    <tr>\n",
       "      <th>0</th>\n",
       "      <td>2539329</td>\n",
       "      <td>1</td>\n",
       "      <td>1</td>\n",
       "      <td>2</td>\n",
       "      <td>8</td>\n",
       "      <td>NaN</td>\n",
       "      <td>196.0</td>\n",
       "      <td>1.0</td>\n",
       "      <td>0.0</td>\n",
       "      <td>Soda</td>\n",
       "      <td>...</td>\n",
       "      <td>Linda</td>\n",
       "      <td>Nguyen</td>\n",
       "      <td>Female</td>\n",
       "      <td>Alabama</td>\n",
       "      <td>31.0</td>\n",
       "      <td>2/17/2019</td>\n",
       "      <td>3.0</td>\n",
       "      <td>married</td>\n",
       "      <td>40423.0</td>\n",
       "      <td>Linda-Nguyen</td>\n",
       "    </tr>\n",
       "    <tr>\n",
       "      <th>1</th>\n",
       "      <td>2398795</td>\n",
       "      <td>1</td>\n",
       "      <td>2</td>\n",
       "      <td>3</td>\n",
       "      <td>7</td>\n",
       "      <td>15.0</td>\n",
       "      <td>196.0</td>\n",
       "      <td>1.0</td>\n",
       "      <td>1.0</td>\n",
       "      <td>Soda</td>\n",
       "      <td>...</td>\n",
       "      <td>Linda</td>\n",
       "      <td>Nguyen</td>\n",
       "      <td>Female</td>\n",
       "      <td>Alabama</td>\n",
       "      <td>31.0</td>\n",
       "      <td>2/17/2019</td>\n",
       "      <td>3.0</td>\n",
       "      <td>married</td>\n",
       "      <td>40423.0</td>\n",
       "      <td>Linda-Nguyen</td>\n",
       "    </tr>\n",
       "    <tr>\n",
       "      <th>2</th>\n",
       "      <td>473747</td>\n",
       "      <td>1</td>\n",
       "      <td>3</td>\n",
       "      <td>3</td>\n",
       "      <td>12</td>\n",
       "      <td>21.0</td>\n",
       "      <td>196.0</td>\n",
       "      <td>1.0</td>\n",
       "      <td>1.0</td>\n",
       "      <td>Soda</td>\n",
       "      <td>...</td>\n",
       "      <td>Linda</td>\n",
       "      <td>Nguyen</td>\n",
       "      <td>Female</td>\n",
       "      <td>Alabama</td>\n",
       "      <td>31.0</td>\n",
       "      <td>2/17/2019</td>\n",
       "      <td>3.0</td>\n",
       "      <td>married</td>\n",
       "      <td>40423.0</td>\n",
       "      <td>Linda-Nguyen</td>\n",
       "    </tr>\n",
       "    <tr>\n",
       "      <th>3</th>\n",
       "      <td>2254736</td>\n",
       "      <td>1</td>\n",
       "      <td>4</td>\n",
       "      <td>4</td>\n",
       "      <td>7</td>\n",
       "      <td>29.0</td>\n",
       "      <td>196.0</td>\n",
       "      <td>1.0</td>\n",
       "      <td>1.0</td>\n",
       "      <td>Soda</td>\n",
       "      <td>...</td>\n",
       "      <td>Linda</td>\n",
       "      <td>Nguyen</td>\n",
       "      <td>Female</td>\n",
       "      <td>Alabama</td>\n",
       "      <td>31.0</td>\n",
       "      <td>2/17/2019</td>\n",
       "      <td>3.0</td>\n",
       "      <td>married</td>\n",
       "      <td>40423.0</td>\n",
       "      <td>Linda-Nguyen</td>\n",
       "    </tr>\n",
       "    <tr>\n",
       "      <th>4</th>\n",
       "      <td>431534</td>\n",
       "      <td>1</td>\n",
       "      <td>5</td>\n",
       "      <td>4</td>\n",
       "      <td>15</td>\n",
       "      <td>28.0</td>\n",
       "      <td>196.0</td>\n",
       "      <td>1.0</td>\n",
       "      <td>1.0</td>\n",
       "      <td>Soda</td>\n",
       "      <td>...</td>\n",
       "      <td>Linda</td>\n",
       "      <td>Nguyen</td>\n",
       "      <td>Female</td>\n",
       "      <td>Alabama</td>\n",
       "      <td>31.0</td>\n",
       "      <td>2/17/2019</td>\n",
       "      <td>3.0</td>\n",
       "      <td>married</td>\n",
       "      <td>40423.0</td>\n",
       "      <td>Linda-Nguyen</td>\n",
       "    </tr>\n",
       "    <tr>\n",
       "      <th>5</th>\n",
       "      <td>3367565</td>\n",
       "      <td>1</td>\n",
       "      <td>6</td>\n",
       "      <td>2</td>\n",
       "      <td>7</td>\n",
       "      <td>19.0</td>\n",
       "      <td>196.0</td>\n",
       "      <td>1.0</td>\n",
       "      <td>1.0</td>\n",
       "      <td>Soda</td>\n",
       "      <td>...</td>\n",
       "      <td>Linda</td>\n",
       "      <td>Nguyen</td>\n",
       "      <td>Female</td>\n",
       "      <td>Alabama</td>\n",
       "      <td>31.0</td>\n",
       "      <td>2/17/2019</td>\n",
       "      <td>3.0</td>\n",
       "      <td>married</td>\n",
       "      <td>40423.0</td>\n",
       "      <td>Linda-Nguyen</td>\n",
       "    </tr>\n",
       "    <tr>\n",
       "      <th>6</th>\n",
       "      <td>550135</td>\n",
       "      <td>1</td>\n",
       "      <td>7</td>\n",
       "      <td>1</td>\n",
       "      <td>9</td>\n",
       "      <td>20.0</td>\n",
       "      <td>196.0</td>\n",
       "      <td>1.0</td>\n",
       "      <td>1.0</td>\n",
       "      <td>Soda</td>\n",
       "      <td>...</td>\n",
       "      <td>Linda</td>\n",
       "      <td>Nguyen</td>\n",
       "      <td>Female</td>\n",
       "      <td>Alabama</td>\n",
       "      <td>31.0</td>\n",
       "      <td>2/17/2019</td>\n",
       "      <td>3.0</td>\n",
       "      <td>married</td>\n",
       "      <td>40423.0</td>\n",
       "      <td>Linda-Nguyen</td>\n",
       "    </tr>\n",
       "    <tr>\n",
       "      <th>7</th>\n",
       "      <td>3108588</td>\n",
       "      <td>1</td>\n",
       "      <td>8</td>\n",
       "      <td>1</td>\n",
       "      <td>14</td>\n",
       "      <td>14.0</td>\n",
       "      <td>196.0</td>\n",
       "      <td>2.0</td>\n",
       "      <td>1.0</td>\n",
       "      <td>Soda</td>\n",
       "      <td>...</td>\n",
       "      <td>Linda</td>\n",
       "      <td>Nguyen</td>\n",
       "      <td>Female</td>\n",
       "      <td>Alabama</td>\n",
       "      <td>31.0</td>\n",
       "      <td>2/17/2019</td>\n",
       "      <td>3.0</td>\n",
       "      <td>married</td>\n",
       "      <td>40423.0</td>\n",
       "      <td>Linda-Nguyen</td>\n",
       "    </tr>\n",
       "    <tr>\n",
       "      <th>8</th>\n",
       "      <td>2295261</td>\n",
       "      <td>1</td>\n",
       "      <td>9</td>\n",
       "      <td>1</td>\n",
       "      <td>16</td>\n",
       "      <td>0.0</td>\n",
       "      <td>196.0</td>\n",
       "      <td>4.0</td>\n",
       "      <td>1.0</td>\n",
       "      <td>Soda</td>\n",
       "      <td>...</td>\n",
       "      <td>Linda</td>\n",
       "      <td>Nguyen</td>\n",
       "      <td>Female</td>\n",
       "      <td>Alabama</td>\n",
       "      <td>31.0</td>\n",
       "      <td>2/17/2019</td>\n",
       "      <td>3.0</td>\n",
       "      <td>married</td>\n",
       "      <td>40423.0</td>\n",
       "      <td>Linda-Nguyen</td>\n",
       "    </tr>\n",
       "    <tr>\n",
       "      <th>9</th>\n",
       "      <td>2550362</td>\n",
       "      <td>1</td>\n",
       "      <td>10</td>\n",
       "      <td>4</td>\n",
       "      <td>8</td>\n",
       "      <td>30.0</td>\n",
       "      <td>196.0</td>\n",
       "      <td>1.0</td>\n",
       "      <td>1.0</td>\n",
       "      <td>Soda</td>\n",
       "      <td>...</td>\n",
       "      <td>Linda</td>\n",
       "      <td>Nguyen</td>\n",
       "      <td>Female</td>\n",
       "      <td>Alabama</td>\n",
       "      <td>31.0</td>\n",
       "      <td>2/17/2019</td>\n",
       "      <td>3.0</td>\n",
       "      <td>married</td>\n",
       "      <td>40423.0</td>\n",
       "      <td>Linda-Nguyen</td>\n",
       "    </tr>\n",
       "  </tbody>\n",
       "</table>\n",
       "<p>10 rows × 30 columns</p>\n",
       "</div>"
      ],
      "text/plain": [
       "   order_id  user_id  order_number  orders_day_of_week  order_hour_of_day  \\\n",
       "0   2539329        1             1                   2                  8   \n",
       "1   2398795        1             2                   3                  7   \n",
       "2    473747        1             3                   3                 12   \n",
       "3   2254736        1             4                   4                  7   \n",
       "4    431534        1             5                   4                 15   \n",
       "5   3367565        1             6                   2                  7   \n",
       "6    550135        1             7                   1                  9   \n",
       "7   3108588        1             8                   1                 14   \n",
       "8   2295261        1             9                   1                 16   \n",
       "9   2550362        1            10                   4                  8   \n",
       "\n",
       "   days_since_prior_order  product_id  add_to_cart_order  reordered  \\\n",
       "0                     NaN       196.0                1.0        0.0   \n",
       "1                    15.0       196.0                1.0        1.0   \n",
       "2                    21.0       196.0                1.0        1.0   \n",
       "3                    29.0       196.0                1.0        1.0   \n",
       "4                    28.0       196.0                1.0        1.0   \n",
       "5                    19.0       196.0                1.0        1.0   \n",
       "6                    20.0       196.0                1.0        1.0   \n",
       "7                    14.0       196.0                2.0        1.0   \n",
       "8                     0.0       196.0                4.0        1.0   \n",
       "9                    30.0       196.0                1.0        1.0   \n",
       "\n",
       "  product_name  ...   name  last_name  gender    state   age date_joined  \\\n",
       "0         Soda  ...  Linda     Nguyen  Female  Alabama  31.0   2/17/2019   \n",
       "1         Soda  ...  Linda     Nguyen  Female  Alabama  31.0   2/17/2019   \n",
       "2         Soda  ...  Linda     Nguyen  Female  Alabama  31.0   2/17/2019   \n",
       "3         Soda  ...  Linda     Nguyen  Female  Alabama  31.0   2/17/2019   \n",
       "4         Soda  ...  Linda     Nguyen  Female  Alabama  31.0   2/17/2019   \n",
       "5         Soda  ...  Linda     Nguyen  Female  Alabama  31.0   2/17/2019   \n",
       "6         Soda  ...  Linda     Nguyen  Female  Alabama  31.0   2/17/2019   \n",
       "7         Soda  ...  Linda     Nguyen  Female  Alabama  31.0   2/17/2019   \n",
       "8         Soda  ...  Linda     Nguyen  Female  Alabama  31.0   2/17/2019   \n",
       "9         Soda  ...  Linda     Nguyen  Female  Alabama  31.0   2/17/2019   \n",
       "\n",
       "   n_dependants fam_status   income      all_name  \n",
       "0           3.0    married  40423.0  Linda-Nguyen  \n",
       "1           3.0    married  40423.0  Linda-Nguyen  \n",
       "2           3.0    married  40423.0  Linda-Nguyen  \n",
       "3           3.0    married  40423.0  Linda-Nguyen  \n",
       "4           3.0    married  40423.0  Linda-Nguyen  \n",
       "5           3.0    married  40423.0  Linda-Nguyen  \n",
       "6           3.0    married  40423.0  Linda-Nguyen  \n",
       "7           3.0    married  40423.0  Linda-Nguyen  \n",
       "8           3.0    married  40423.0  Linda-Nguyen  \n",
       "9           3.0    married  40423.0  Linda-Nguyen  \n",
       "\n",
       "[10 rows x 30 columns]"
      ]
     },
     "execution_count": 11,
     "metadata": {},
     "output_type": "execute_result"
    }
   ],
   "source": [
    "#Checking columns and dataset structure\n",
    "df_merged.head(10)"
   ]
  },
  {
   "cell_type": "code",
   "execution_count": 12,
   "id": "cfe28776",
   "metadata": {},
   "outputs": [
    {
     "name": "stdout",
     "output_type": "stream",
     "text": [
      "<class 'pandas.core.frame.DataFrame'>\n",
      "Int64Index: 32404859 entries, 0 to 32404858\n",
      "Data columns (total 30 columns):\n",
      " #   Column                  Dtype   \n",
      "---  ------                  -----   \n",
      " 0   order_id                int64   \n",
      " 1   user_id                 int64   \n",
      " 2   order_number            int64   \n",
      " 3   orders_day_of_week      int64   \n",
      " 4   order_hour_of_day       int64   \n",
      " 5   days_since_prior_order  float64 \n",
      " 6   product_id              float64 \n",
      " 7   add_to_cart_order       float64 \n",
      " 8   reordered               float64 \n",
      " 9   product_name            object  \n",
      " 10  aisle_id                int64   \n",
      " 11  department_id           int64   \n",
      " 12  prices                  float64 \n",
      " 13  _merge                  category\n",
      " 14  max_order               int64   \n",
      " 15  loyalty_flag            object  \n",
      " 16  avg_price               float64 \n",
      " 17  spender_criteria        object  \n",
      " 18  frequency_order_median  float64 \n",
      " 19  frequency               object  \n",
      " 20  name                    object  \n",
      " 21  last_name               object  \n",
      " 22  gender                  object  \n",
      " 23  state                   object  \n",
      " 24  age                     float64 \n",
      " 25  date_joined             object  \n",
      " 26  n_dependants            float64 \n",
      " 27  fam_status              object  \n",
      " 28  income                  float64 \n",
      " 29  all_name                object  \n",
      "dtypes: category(1), float64(10), int64(8), object(11)\n",
      "memory usage: 7.3+ GB\n"
     ]
    }
   ],
   "source": [
    "df_merged.info()"
   ]
  },
  {
   "cell_type": "markdown",
   "id": "177cdbf9",
   "metadata": {},
   "source": [
    "The name and last name might be considred as a security concern, this columns will be dropped from the dataframe. "
   ]
  },
  {
   "cell_type": "code",
   "execution_count": 13,
   "id": "b08abd0c",
   "metadata": {},
   "outputs": [],
   "source": [
    "df_merged2 = df_merged.drop(columns = ['name', 'last_name', 'all_name'])"
   ]
  },
  {
   "cell_type": "code",
   "execution_count": 14,
   "id": "c6bfbdb3",
   "metadata": {},
   "outputs": [
    {
     "name": "stdout",
     "output_type": "stream",
     "text": [
      "<class 'pandas.core.frame.DataFrame'>\n",
      "Int64Index: 32404859 entries, 0 to 32404858\n",
      "Data columns (total 27 columns):\n",
      " #   Column                  Dtype   \n",
      "---  ------                  -----   \n",
      " 0   order_id                int64   \n",
      " 1   user_id                 int64   \n",
      " 2   order_number            int64   \n",
      " 3   orders_day_of_week      int64   \n",
      " 4   order_hour_of_day       int64   \n",
      " 5   days_since_prior_order  float64 \n",
      " 6   product_id              float64 \n",
      " 7   add_to_cart_order       float64 \n",
      " 8   reordered               float64 \n",
      " 9   product_name            object  \n",
      " 10  aisle_id                int64   \n",
      " 11  department_id           int64   \n",
      " 12  prices                  float64 \n",
      " 13  _merge                  category\n",
      " 14  max_order               int64   \n",
      " 15  loyalty_flag            object  \n",
      " 16  avg_price               float64 \n",
      " 17  spender_criteria        object  \n",
      " 18  frequency_order_median  float64 \n",
      " 19  frequency               object  \n",
      " 20  gender                  object  \n",
      " 21  state                   object  \n",
      " 22  age                     float64 \n",
      " 23  date_joined             object  \n",
      " 24  n_dependants            float64 \n",
      " 25  fam_status              object  \n",
      " 26  income                  float64 \n",
      "dtypes: category(1), float64(10), int64(8), object(8)\n",
      "memory usage: 6.5+ GB\n"
     ]
    }
   ],
   "source": [
    "df_merged2.info()"
   ]
  },
  {
   "cell_type": "markdown",
   "id": "4bc17fa4",
   "metadata": {},
   "source": [
    "### 3. Create a regional segmentation of the data. You’ll need to create a “Region” column based on the “State” column from your customers data set."
   ]
  },
  {
   "cell_type": "code",
   "execution_count": 15,
   "id": "22fa9b31",
   "metadata": {},
   "outputs": [
    {
     "data": {
      "text/plain": [
       "California              630308\n",
       "Pennsylvania            629833\n",
       "Rhode Island            621341\n",
       "Georgia                 620618\n",
       "Arizona                 619810\n",
       "North Carolina          618268\n",
       "Oklahoma                615354\n",
       "Minnesota               613699\n",
       "New Mexico              611481\n",
       "Maine                   610309\n",
       "Alaska                  610279\n",
       "Wyoming                 609764\n",
       "Massachusetts           608964\n",
       "Arkansas                608035\n",
       "Mississippi             607362\n",
       "Texas                   605608\n",
       "North Dakota            605317\n",
       "Nevada                  605083\n",
       "Missouri                604383\n",
       "Virginia                603563\n",
       "South Dakota            602744\n",
       "Kansas                  602396\n",
       "Louisiana               602384\n",
       "Alabama                 602310\n",
       "South Carolina          602049\n",
       "New York                601409\n",
       "Washington              601352\n",
       "Montana                 600639\n",
       "Michigan                600593\n",
       "Kentucky                600323\n",
       "Colorado                599764\n",
       "Oregon                  599340\n",
       "Delaware                598973\n",
       "Indiana                 595942\n",
       "Hawaii                  593851\n",
       "Ohio                    593507\n",
       "Connecticut             593375\n",
       "Illinois                591762\n",
       "Iowa                    591579\n",
       "New Jersey              591386\n",
       "Maryland                589991\n",
       "Florida                 589376\n",
       "Nebraska                589136\n",
       "Wisconsin               585866\n",
       "New Hampshire           585187\n",
       "Tennessee               581885\n",
       "Vermont                 580221\n",
       "West Virginia           578118\n",
       "Utah                    577919\n",
       "District of Columbia    574765\n",
       "Idaho                   572220\n",
       "Name: state, dtype: int64"
      ]
     },
     "execution_count": 15,
     "metadata": {},
     "output_type": "execute_result"
    }
   ],
   "source": [
    "# Count of the data by state\n",
    "df_merged2['state'].value_counts()"
   ]
  },
  {
   "cell_type": "code",
   "execution_count": 16,
   "id": "5d806311",
   "metadata": {},
   "outputs": [],
   "source": [
    "# Defining regions by states \n",
    "Northeast = ['Maine', 'New Hampshire', 'Vermont', 'Massachusetts', 'Rhode Island', 'Connecticut', 'New York', 'Pennsylvania', 'New Jersey'] "
   ]
  },
  {
   "cell_type": "code",
   "execution_count": 17,
   "id": "6d4bd1f7",
   "metadata": {},
   "outputs": [],
   "source": [
    "Midwest = ['Wisconsin', 'Michigan', 'Illinois', 'Indiana', 'Ohio', 'North Dakota', 'South Dakota', 'Nebraska', 'Kansas', 'Minnesota', 'Iowa', 'Missouri']"
   ]
  },
  {
   "cell_type": "code",
   "execution_count": 18,
   "id": "e8b8311d",
   "metadata": {},
   "outputs": [],
   "source": [
    "South  = ['Delaware', 'Maryland', 'District of Columbia', 'Virginia', 'West Virginia', 'North Carolina', 'South Carolina', 'Georgia', 'Florida', 'Kentucky', 'Tennessee', 'Mississippi', 'Alabama', 'Oklahoma', 'Texas', 'Arkansas', 'Louisiana']"
   ]
  },
  {
   "cell_type": "code",
   "execution_count": 19,
   "id": "512a1626",
   "metadata": {},
   "outputs": [],
   "source": [
    "West = ['Idaho', 'Montana', 'Wyoming', 'Nevada', 'Utah', 'Colorado', 'Arizona', 'New Mexico', 'Alaska', 'Washington', 'Oregon', 'California', 'Hawaii']"
   ]
  },
  {
   "cell_type": "code",
   "execution_count": 20,
   "id": "4013120a",
   "metadata": {},
   "outputs": [],
   "source": [
    "# Creating if statement using - loc for assigning regions to the states\n",
    "df_merged2.loc[df_merged2['state'].isin(Northeast), 'region'] = 'Northeast'"
   ]
  },
  {
   "cell_type": "code",
   "execution_count": 21,
   "id": "9311a2d7",
   "metadata": {},
   "outputs": [],
   "source": [
    "df_merged2.loc[df_merged2['state'].isin(Midwest), 'region'] = 'Midwest'"
   ]
  },
  {
   "cell_type": "code",
   "execution_count": 22,
   "id": "cb2ea11a",
   "metadata": {},
   "outputs": [],
   "source": [
    "df_merged2.loc[df_merged2['state'].isin(South), 'region'] = 'South'"
   ]
  },
  {
   "cell_type": "code",
   "execution_count": 23,
   "id": "a0438d7d",
   "metadata": {},
   "outputs": [],
   "source": [
    "df_merged2.loc[df_merged2['state'].isin(West), 'region'] = 'West'"
   ]
  },
  {
   "cell_type": "code",
   "execution_count": 24,
   "id": "99a3a85d",
   "metadata": {},
   "outputs": [
    {
     "data": {
      "text/plain": [
       "South        10198982\n",
       "West          7831810\n",
       "Midwest       7176924\n",
       "Northeast     5422025\n",
       "NaN           1775118\n",
       "Name: region, dtype: int64"
      ]
     },
     "execution_count": 24,
     "metadata": {},
     "output_type": "execute_result"
    }
   ],
   "source": [
    "# Checking values of new column - region\n",
    "df_merged2['region'].value_counts(dropna = False)"
   ]
  },
  {
   "cell_type": "markdown",
   "id": "ba169b8a",
   "metadata": {},
   "source": [
    "#### 3.1 Determine whether there’s a difference in spending habits between the different U.S. regions"
   ]
  },
  {
   "cell_type": "code",
   "execution_count": 25,
   "id": "73c04d56",
   "metadata": {},
   "outputs": [],
   "source": [
    "crosstab_spender = pd.crosstab(df_merged2['region'], df_merged2['spender_criteria'], dropna = False)"
   ]
  },
  {
   "cell_type": "code",
   "execution_count": 26,
   "id": "1774a604",
   "metadata": {},
   "outputs": [
    {
     "data": {
      "text/html": [
       "<div>\n",
       "<style scoped>\n",
       "    .dataframe tbody tr th:only-of-type {\n",
       "        vertical-align: middle;\n",
       "    }\n",
       "\n",
       "    .dataframe tbody tr th {\n",
       "        vertical-align: top;\n",
       "    }\n",
       "\n",
       "    .dataframe thead th {\n",
       "        text-align: right;\n",
       "    }\n",
       "</style>\n",
       "<table border=\"1\" class=\"dataframe\">\n",
       "  <thead>\n",
       "    <tr style=\"text-align: right;\">\n",
       "      <th>spender_criteria</th>\n",
       "      <th>High spender</th>\n",
       "      <th>Low spender</th>\n",
       "    </tr>\n",
       "    <tr>\n",
       "      <th>region</th>\n",
       "      <th></th>\n",
       "      <th></th>\n",
       "    </tr>\n",
       "  </thead>\n",
       "  <tbody>\n",
       "    <tr>\n",
       "      <th>Midwest</th>\n",
       "      <td>7169525</td>\n",
       "      <td>7399</td>\n",
       "    </tr>\n",
       "    <tr>\n",
       "      <th>Northeast</th>\n",
       "      <td>5416600</td>\n",
       "      <td>5425</td>\n",
       "    </tr>\n",
       "    <tr>\n",
       "      <th>South</th>\n",
       "      <td>10189564</td>\n",
       "      <td>9418</td>\n",
       "    </tr>\n",
       "    <tr>\n",
       "      <th>West</th>\n",
       "      <td>7823755</td>\n",
       "      <td>8055</td>\n",
       "    </tr>\n",
       "  </tbody>\n",
       "</table>\n",
       "</div>"
      ],
      "text/plain": [
       "spender_criteria  High spender  Low spender\n",
       "region                                     \n",
       "Midwest                7169525         7399\n",
       "Northeast              5416600         5425\n",
       "South                 10189564         9418\n",
       "West                   7823755         8055"
      ]
     },
     "execution_count": 26,
     "metadata": {},
     "output_type": "execute_result"
    }
   ],
   "source": [
    "crosstab_spender"
   ]
  },
  {
   "cell_type": "markdown",
   "id": "b33f6657",
   "metadata": {},
   "source": [
    "The amount of money spent varies by region. According to the data it is the South area which has a bigger number of high spenders. "
   ]
  },
  {
   "cell_type": "markdown",
   "id": "5b509b8b",
   "metadata": {},
   "source": [
    "### 4. Create an exclusion flag for low-activity customers (customers with less than 5 orders) and exclude them from the data. "
   ]
  },
  {
   "cell_type": "code",
   "execution_count": 27,
   "id": "635b736f",
   "metadata": {},
   "outputs": [
    {
     "data": {
      "text/plain": [
       "0           10\n",
       "1           10\n",
       "2           10\n",
       "3           10\n",
       "4           10\n",
       "            ..\n",
       "32404854    26\n",
       "32404855     4\n",
       "32404856     4\n",
       "32404857     4\n",
       "32404858     4\n",
       "Name: max_order, Length: 32404859, dtype: int64"
      ]
     },
     "execution_count": 27,
     "metadata": {},
     "output_type": "execute_result"
    }
   ],
   "source": [
    "df_merged2['max_order']"
   ]
  },
  {
   "cell_type": "code",
   "execution_count": 28,
   "id": "0e983e76",
   "metadata": {},
   "outputs": [],
   "source": [
    "# Creating a flag for low - activity customers\n",
    "df_merged2.loc[df_merged2['max_order'] < 5, 'exclusion_flag'] = 'low-activity'\n",
    "df_merged2.loc[df_merged2['max_order'] >= 5, 'exclusion_flag'] = 'high-activity'"
   ]
  },
  {
   "cell_type": "code",
   "execution_count": 29,
   "id": "918e76ea",
   "metadata": {},
   "outputs": [
    {
     "data": {
      "text/plain": [
       "high-activity    30964564\n",
       "low-activity      1440295\n",
       "Name: exclusion_flag, dtype: int64"
      ]
     },
     "execution_count": 29,
     "metadata": {},
     "output_type": "execute_result"
    }
   ],
   "source": [
    "df_merged2['exclusion_flag'].value_counts(dropna = False)"
   ]
  },
  {
   "cell_type": "code",
   "execution_count": 30,
   "id": "0b65f4b5",
   "metadata": {},
   "outputs": [],
   "source": [
    "#Excluding low activity customers \n",
    "df_new = df_merged2.loc[df_merged2['exclusion_flag'] == 'high-activity']"
   ]
  },
  {
   "cell_type": "code",
   "execution_count": 31,
   "id": "40456073",
   "metadata": {},
   "outputs": [
    {
     "data": {
      "text/html": [
       "<div>\n",
       "<style scoped>\n",
       "    .dataframe tbody tr th:only-of-type {\n",
       "        vertical-align: middle;\n",
       "    }\n",
       "\n",
       "    .dataframe tbody tr th {\n",
       "        vertical-align: top;\n",
       "    }\n",
       "\n",
       "    .dataframe thead th {\n",
       "        text-align: right;\n",
       "    }\n",
       "</style>\n",
       "<table border=\"1\" class=\"dataframe\">\n",
       "  <thead>\n",
       "    <tr style=\"text-align: right;\">\n",
       "      <th></th>\n",
       "      <th>order_id</th>\n",
       "      <th>user_id</th>\n",
       "      <th>order_number</th>\n",
       "      <th>orders_day_of_week</th>\n",
       "      <th>order_hour_of_day</th>\n",
       "      <th>days_since_prior_order</th>\n",
       "      <th>product_id</th>\n",
       "      <th>add_to_cart_order</th>\n",
       "      <th>reordered</th>\n",
       "      <th>product_name</th>\n",
       "      <th>...</th>\n",
       "      <th>frequency</th>\n",
       "      <th>gender</th>\n",
       "      <th>state</th>\n",
       "      <th>age</th>\n",
       "      <th>date_joined</th>\n",
       "      <th>n_dependants</th>\n",
       "      <th>fam_status</th>\n",
       "      <th>income</th>\n",
       "      <th>region</th>\n",
       "      <th>exclusion_flag</th>\n",
       "    </tr>\n",
       "  </thead>\n",
       "  <tbody>\n",
       "    <tr>\n",
       "      <th>0</th>\n",
       "      <td>2539329</td>\n",
       "      <td>1</td>\n",
       "      <td>1</td>\n",
       "      <td>2</td>\n",
       "      <td>8</td>\n",
       "      <td>NaN</td>\n",
       "      <td>196.0</td>\n",
       "      <td>1.0</td>\n",
       "      <td>0.0</td>\n",
       "      <td>Soda</td>\n",
       "      <td>...</td>\n",
       "      <td>Non-frequent customer</td>\n",
       "      <td>Female</td>\n",
       "      <td>Alabama</td>\n",
       "      <td>31.0</td>\n",
       "      <td>2/17/2019</td>\n",
       "      <td>3.0</td>\n",
       "      <td>married</td>\n",
       "      <td>40423.0</td>\n",
       "      <td>South</td>\n",
       "      <td>high-activity</td>\n",
       "    </tr>\n",
       "    <tr>\n",
       "      <th>1</th>\n",
       "      <td>2398795</td>\n",
       "      <td>1</td>\n",
       "      <td>2</td>\n",
       "      <td>3</td>\n",
       "      <td>7</td>\n",
       "      <td>15.0</td>\n",
       "      <td>196.0</td>\n",
       "      <td>1.0</td>\n",
       "      <td>1.0</td>\n",
       "      <td>Soda</td>\n",
       "      <td>...</td>\n",
       "      <td>Non-frequent customer</td>\n",
       "      <td>Female</td>\n",
       "      <td>Alabama</td>\n",
       "      <td>31.0</td>\n",
       "      <td>2/17/2019</td>\n",
       "      <td>3.0</td>\n",
       "      <td>married</td>\n",
       "      <td>40423.0</td>\n",
       "      <td>South</td>\n",
       "      <td>high-activity</td>\n",
       "    </tr>\n",
       "    <tr>\n",
       "      <th>2</th>\n",
       "      <td>473747</td>\n",
       "      <td>1</td>\n",
       "      <td>3</td>\n",
       "      <td>3</td>\n",
       "      <td>12</td>\n",
       "      <td>21.0</td>\n",
       "      <td>196.0</td>\n",
       "      <td>1.0</td>\n",
       "      <td>1.0</td>\n",
       "      <td>Soda</td>\n",
       "      <td>...</td>\n",
       "      <td>Non-frequent customer</td>\n",
       "      <td>Female</td>\n",
       "      <td>Alabama</td>\n",
       "      <td>31.0</td>\n",
       "      <td>2/17/2019</td>\n",
       "      <td>3.0</td>\n",
       "      <td>married</td>\n",
       "      <td>40423.0</td>\n",
       "      <td>South</td>\n",
       "      <td>high-activity</td>\n",
       "    </tr>\n",
       "    <tr>\n",
       "      <th>3</th>\n",
       "      <td>2254736</td>\n",
       "      <td>1</td>\n",
       "      <td>4</td>\n",
       "      <td>4</td>\n",
       "      <td>7</td>\n",
       "      <td>29.0</td>\n",
       "      <td>196.0</td>\n",
       "      <td>1.0</td>\n",
       "      <td>1.0</td>\n",
       "      <td>Soda</td>\n",
       "      <td>...</td>\n",
       "      <td>Non-frequent customer</td>\n",
       "      <td>Female</td>\n",
       "      <td>Alabama</td>\n",
       "      <td>31.0</td>\n",
       "      <td>2/17/2019</td>\n",
       "      <td>3.0</td>\n",
       "      <td>married</td>\n",
       "      <td>40423.0</td>\n",
       "      <td>South</td>\n",
       "      <td>high-activity</td>\n",
       "    </tr>\n",
       "    <tr>\n",
       "      <th>4</th>\n",
       "      <td>431534</td>\n",
       "      <td>1</td>\n",
       "      <td>5</td>\n",
       "      <td>4</td>\n",
       "      <td>15</td>\n",
       "      <td>28.0</td>\n",
       "      <td>196.0</td>\n",
       "      <td>1.0</td>\n",
       "      <td>1.0</td>\n",
       "      <td>Soda</td>\n",
       "      <td>...</td>\n",
       "      <td>Non-frequent customer</td>\n",
       "      <td>Female</td>\n",
       "      <td>Alabama</td>\n",
       "      <td>31.0</td>\n",
       "      <td>2/17/2019</td>\n",
       "      <td>3.0</td>\n",
       "      <td>married</td>\n",
       "      <td>40423.0</td>\n",
       "      <td>South</td>\n",
       "      <td>high-activity</td>\n",
       "    </tr>\n",
       "  </tbody>\n",
       "</table>\n",
       "<p>5 rows × 29 columns</p>\n",
       "</div>"
      ],
      "text/plain": [
       "   order_id  user_id  order_number  orders_day_of_week  order_hour_of_day  \\\n",
       "0   2539329        1             1                   2                  8   \n",
       "1   2398795        1             2                   3                  7   \n",
       "2    473747        1             3                   3                 12   \n",
       "3   2254736        1             4                   4                  7   \n",
       "4    431534        1             5                   4                 15   \n",
       "\n",
       "   days_since_prior_order  product_id  add_to_cart_order  reordered  \\\n",
       "0                     NaN       196.0                1.0        0.0   \n",
       "1                    15.0       196.0                1.0        1.0   \n",
       "2                    21.0       196.0                1.0        1.0   \n",
       "3                    29.0       196.0                1.0        1.0   \n",
       "4                    28.0       196.0                1.0        1.0   \n",
       "\n",
       "  product_name  ...              frequency  gender    state   age  \\\n",
       "0         Soda  ...  Non-frequent customer  Female  Alabama  31.0   \n",
       "1         Soda  ...  Non-frequent customer  Female  Alabama  31.0   \n",
       "2         Soda  ...  Non-frequent customer  Female  Alabama  31.0   \n",
       "3         Soda  ...  Non-frequent customer  Female  Alabama  31.0   \n",
       "4         Soda  ...  Non-frequent customer  Female  Alabama  31.0   \n",
       "\n",
       "   date_joined n_dependants  fam_status   income  region exclusion_flag  \n",
       "0    2/17/2019          3.0     married  40423.0   South  high-activity  \n",
       "1    2/17/2019          3.0     married  40423.0   South  high-activity  \n",
       "2    2/17/2019          3.0     married  40423.0   South  high-activity  \n",
       "3    2/17/2019          3.0     married  40423.0   South  high-activity  \n",
       "4    2/17/2019          3.0     married  40423.0   South  high-activity  \n",
       "\n",
       "[5 rows x 29 columns]"
      ]
     },
     "execution_count": 31,
     "metadata": {},
     "output_type": "execute_result"
    }
   ],
   "source": [
    "df_new.head()"
   ]
  },
  {
   "cell_type": "code",
   "execution_count": 32,
   "id": "8dba616f",
   "metadata": {},
   "outputs": [
    {
     "data": {
      "text/plain": [
       "(30964564, 29)"
      ]
     },
     "execution_count": 32,
     "metadata": {},
     "output_type": "execute_result"
    }
   ],
   "source": [
    "df_new.shape"
   ]
  },
  {
   "cell_type": "code",
   "execution_count": 33,
   "id": "f46a72de",
   "metadata": {},
   "outputs": [
    {
     "data": {
      "text/plain": [
       "(32404859, 29)"
      ]
     },
     "execution_count": 33,
     "metadata": {},
     "output_type": "execute_result"
    }
   ],
   "source": [
    "df_merged2.shape"
   ]
  },
  {
   "cell_type": "code",
   "execution_count": 34,
   "id": "08bd782a",
   "metadata": {},
   "outputs": [],
   "source": [
    "#Exporting data frame with high activity customers \n",
    "df_new.to_pickle(os.path.join(path, '02 Data', 'Prepared Data', 'high_activity_df.pkl'))"
   ]
  },
  {
   "cell_type": "markdown",
   "id": "4fdb415d",
   "metadata": {},
   "source": [
    "### 5.Create a profiling variable based on age, income, certain goods in the “department_id” column, and number of dependents. "
   ]
  },
  {
   "cell_type": "code",
   "execution_count": 35,
   "id": "ef6fe1cd",
   "metadata": {},
   "outputs": [],
   "source": [
    "#Defining file that will be evaluated, high activity customers dataframe \n",
    "df_customers = df_new"
   ]
  },
  {
   "cell_type": "code",
   "execution_count": 36,
   "id": "e19a4f00",
   "metadata": {},
   "outputs": [
    {
     "data": {
      "text/plain": [
       "(30964564, 29)"
      ]
     },
     "execution_count": 36,
     "metadata": {},
     "output_type": "execute_result"
    }
   ],
   "source": [
    "df_customers.shape"
   ]
  },
  {
   "cell_type": "code",
   "execution_count": 37,
   "id": "02ba6498",
   "metadata": {},
   "outputs": [
    {
     "data": {
      "text/plain": [
       "count    2.927094e+07\n",
       "mean     4.947596e+01\n",
       "std      1.847853e+01\n",
       "min      1.800000e+01\n",
       "25%      3.400000e+01\n",
       "50%      4.900000e+01\n",
       "75%      6.500000e+01\n",
       "max      8.100000e+01\n",
       "Name: age, dtype: float64"
      ]
     },
     "execution_count": 37,
     "metadata": {},
     "output_type": "execute_result"
    }
   ],
   "source": [
    "df_customers['age'].describe()"
   ]
  },
  {
   "cell_type": "markdown",
   "id": "a677959f",
   "metadata": {},
   "source": [
    "#### 5.1 Analyzing dataframe by age group "
   ]
  },
  {
   "cell_type": "code",
   "execution_count": 38,
   "id": "062d412f",
   "metadata": {},
   "outputs": [
    {
     "name": "stderr",
     "output_type": "stream",
     "text": [
      "C:\\Users\\ale_o\\AppData\\Local\\Temp\\ipykernel_29808\\3155389410.py:1: SettingWithCopyWarning: \n",
      "A value is trying to be set on a copy of a slice from a DataFrame.\n",
      "Try using .loc[row_indexer,col_indexer] = value instead\n",
      "\n",
      "See the caveats in the documentation: https://pandas.pydata.org/pandas-docs/stable/user_guide/indexing.html#returning-a-view-versus-a-copy\n",
      "  df_customers.loc[(df_customers['age'] < 24, 'age_group')] = 'Youth'\n"
     ]
    }
   ],
   "source": [
    "df_customers.loc[(df_customers['age'] < 24, 'age_group')] = 'Youth'"
   ]
  },
  {
   "cell_type": "code",
   "execution_count": 39,
   "id": "82d1833f",
   "metadata": {},
   "outputs": [],
   "source": [
    "df_customers.loc[(df_customers['age'] >= 24) & (df_customers['age'] < 64), 'age_group'] = 'Adults'"
   ]
  },
  {
   "cell_type": "code",
   "execution_count": 40,
   "id": "917b5545",
   "metadata": {},
   "outputs": [],
   "source": [
    "df_customers.loc[(df_customers['age'] >= 64), 'age_group'] = 'Seniors'"
   ]
  },
  {
   "cell_type": "code",
   "execution_count": 41,
   "id": "80831407",
   "metadata": {},
   "outputs": [
    {
     "data": {
      "text/plain": [
       "Adults     18278466\n",
       "Seniors     8215291\n",
       "Youth       2777181\n",
       "NaN         1693626\n",
       "Name: age_group, dtype: int64"
      ]
     },
     "execution_count": 41,
     "metadata": {},
     "output_type": "execute_result"
    }
   ],
   "source": [
    "#Validating new column \n",
    "df_customers['age_group'].value_counts(dropna = False)"
   ]
  },
  {
   "cell_type": "markdown",
   "id": "12af68a9",
   "metadata": {},
   "source": [
    "#### 5.2 Analyzing dataframe by income "
   ]
  },
  {
   "cell_type": "code",
   "execution_count": 43,
   "id": "f691eedf",
   "metadata": {},
   "outputs": [
    {
     "data": {
      "text/plain": [
       "count    2.927094e+07\n",
       "mean     9.969692e+04\n",
       "std      4.314845e+04\n",
       "min      2.590300e+04\n",
       "25%      6.736700e+04\n",
       "50%      9.676300e+04\n",
       "75%      1.281390e+05\n",
       "max      5.939010e+05\n",
       "Name: income, dtype: float64"
      ]
     },
     "execution_count": 43,
     "metadata": {},
     "output_type": "execute_result"
    }
   ],
   "source": [
    "# Defining cateogries by analyzing the income \n",
    "df_customers['income'].describe()"
   ]
  },
  {
   "cell_type": "code",
   "execution_count": 44,
   "id": "341861ec",
   "metadata": {},
   "outputs": [
    {
     "data": {
      "text/plain": [
       "99696.91521337649"
      ]
     },
     "execution_count": 44,
     "metadata": {},
     "output_type": "execute_result"
    }
   ],
   "source": [
    "df_customers['income'].mean()"
   ]
  },
  {
   "cell_type": "markdown",
   "id": "19b92127",
   "metadata": {},
   "source": [
    "Min income = 25.9 K\n",
    "Max income = 593.9 K \n",
    "Avg income = 99 K\n",
    "std income = 43 k"
   ]
  },
  {
   "cell_type": "code",
   "execution_count": 45,
   "id": "5c7b7726",
   "metadata": {},
   "outputs": [
    {
     "data": {
      "text/plain": [
       "43148.45451986873"
      ]
     },
     "execution_count": 45,
     "metadata": {},
     "output_type": "execute_result"
    }
   ],
   "source": [
    "df_customers['income'].std()"
   ]
  },
  {
   "cell_type": "markdown",
   "id": "e4a521c0",
   "metadata": {},
   "source": [
    "Categories: \n",
    "Low income < 80k\n",
    "Medium >= 80  & < 150\n",
    "High >=150"
   ]
  },
  {
   "cell_type": "code",
   "execution_count": 46,
   "id": "c2325b85",
   "metadata": {},
   "outputs": [
    {
     "name": "stderr",
     "output_type": "stream",
     "text": [
      "C:\\Users\\ale_o\\AppData\\Local\\Temp\\ipykernel_29808\\2641076060.py:1: SettingWithCopyWarning: \n",
      "A value is trying to be set on a copy of a slice from a DataFrame.\n",
      "Try using .loc[row_indexer,col_indexer] = value instead\n",
      "\n",
      "See the caveats in the documentation: https://pandas.pydata.org/pandas-docs/stable/user_guide/indexing.html#returning-a-view-versus-a-copy\n",
      "  df_customers.loc[df_customers['income'] < 80000, 'income_category'] = 'Low income'\n"
     ]
    }
   ],
   "source": [
    "df_customers.loc[df_customers['income'] < 80000, 'income_category'] = 'Low income'"
   ]
  },
  {
   "cell_type": "code",
   "execution_count": 47,
   "id": "ae250828",
   "metadata": {},
   "outputs": [],
   "source": [
    "df_customers.loc[(df_customers['income'] >= 80000) & (df_customers['income'] < 150000), 'income_category'] = 'Middle income'"
   ]
  },
  {
   "cell_type": "code",
   "execution_count": 48,
   "id": "ea94c291",
   "metadata": {},
   "outputs": [],
   "source": [
    "df_customers.loc[(df_customers['income'] >= 150000), 'income_category'] = 'High income'"
   ]
  },
  {
   "cell_type": "code",
   "execution_count": 49,
   "id": "fca5f48e",
   "metadata": {},
   "outputs": [
    {
     "data": {
      "text/plain": [
       "Middle income    15217556\n",
       "Low income       10379426\n",
       "High income       3673956\n",
       "NaN               1693626\n",
       "Name: income_category, dtype: int64"
      ]
     },
     "execution_count": 49,
     "metadata": {},
     "output_type": "execute_result"
    }
   ],
   "source": [
    "#Checking the new column \n",
    "df_customers['income_category'].value_counts(dropna = False)"
   ]
  },
  {
   "cell_type": "markdown",
   "id": "2df2e410",
   "metadata": {},
   "source": [
    "#### 5.3 Analyzing dataframe by number of dependents"
   ]
  },
  {
   "cell_type": "code",
   "execution_count": 50,
   "id": "1bdc0697",
   "metadata": {},
   "outputs": [
    {
     "data": {
      "text/plain": [
       "count    2.927094e+07\n",
       "mean     1.501600e+00\n",
       "std      1.118496e+00\n",
       "min      0.000000e+00\n",
       "25%      1.000000e+00\n",
       "50%      2.000000e+00\n",
       "75%      3.000000e+00\n",
       "max      3.000000e+00\n",
       "Name: n_dependants, dtype: float64"
      ]
     },
     "execution_count": 50,
     "metadata": {},
     "output_type": "execute_result"
    }
   ],
   "source": [
    "# Defining categories by analyzing variable \n",
    "df_customers['n_dependants'].describe()"
   ]
  },
  {
   "cell_type": "markdown",
   "id": "10419fe2",
   "metadata": {},
   "source": [
    "The previous details of the 'd=n_dependants' show that the minimum quantity of dependents is 1 and the maximium is 3. \n",
    "The groups that will be considered are: \n",
    "No dependants = 0 \n",
    "Medium = 1 -2 \n",
    "Large = 3 "
   ]
  },
  {
   "cell_type": "code",
   "execution_count": 51,
   "id": "ebd54d8a",
   "metadata": {},
   "outputs": [
    {
     "name": "stderr",
     "output_type": "stream",
     "text": [
      "C:\\Users\\ale_o\\AppData\\Local\\Temp\\ipykernel_29808\\4184110722.py:2: SettingWithCopyWarning: \n",
      "A value is trying to be set on a copy of a slice from a DataFrame.\n",
      "Try using .loc[row_indexer,col_indexer] = value instead\n",
      "\n",
      "See the caveats in the documentation: https://pandas.pydata.org/pandas-docs/stable/user_guide/indexing.html#returning-a-view-versus-a-copy\n",
      "  df_customers.loc[(df_customers['n_dependants'] == 0), 'dependents'] = 'No dependents'\n"
     ]
    }
   ],
   "source": [
    "#Creating groups \n",
    "df_customers.loc[(df_customers['n_dependants'] == 0), 'dependents'] = 'No dependents'"
   ]
  },
  {
   "cell_type": "code",
   "execution_count": 52,
   "id": "e11b1f21",
   "metadata": {},
   "outputs": [],
   "source": [
    "df_customers.loc[(df_customers['n_dependants'] == 1), 'dependents'] = 'Medium'"
   ]
  },
  {
   "cell_type": "code",
   "execution_count": 53,
   "id": "97188fb1",
   "metadata": {},
   "outputs": [],
   "source": [
    "df_customers.loc[(df_customers['n_dependants'] == 2), 'dependents'] = 'Medium'"
   ]
  },
  {
   "cell_type": "code",
   "execution_count": 54,
   "id": "cbb842c9",
   "metadata": {},
   "outputs": [],
   "source": [
    "df_customers.loc[(df_customers['n_dependants'] == 3.0), 'dependents'] = 'Large'"
   ]
  },
  {
   "cell_type": "code",
   "execution_count": 55,
   "id": "76d41ec5",
   "metadata": {},
   "outputs": [
    {
     "data": {
      "text/plain": [
       "Medium           14620323\n",
       "Large             7338095\n",
       "No dependents     7312520\n",
       "NaN               1693626\n",
       "Name: dependents, dtype: int64"
      ]
     },
     "execution_count": 55,
     "metadata": {},
     "output_type": "execute_result"
    }
   ],
   "source": [
    "df_customers['dependents'].value_counts(dropna = False)"
   ]
  },
  {
   "cell_type": "code",
   "execution_count": 56,
   "id": "876a0575",
   "metadata": {},
   "outputs": [],
   "source": [
    "# Relationship between number of dependents and status\n",
    "status_depen_crosstab = pd.crosstab(df_customers['n_dependants'], df_customers['fam_status'], dropna = False)\n"
   ]
  },
  {
   "cell_type": "code",
   "execution_count": 57,
   "id": "163390f1",
   "metadata": {},
   "outputs": [
    {
     "data": {
      "text/html": [
       "<div>\n",
       "<style scoped>\n",
       "    .dataframe tbody tr th:only-of-type {\n",
       "        vertical-align: middle;\n",
       "    }\n",
       "\n",
       "    .dataframe tbody tr th {\n",
       "        vertical-align: top;\n",
       "    }\n",
       "\n",
       "    .dataframe thead th {\n",
       "        text-align: right;\n",
       "    }\n",
       "</style>\n",
       "<table border=\"1\" class=\"dataframe\">\n",
       "  <thead>\n",
       "    <tr style=\"text-align: right;\">\n",
       "      <th>fam_status</th>\n",
       "      <th>divorced/widowed</th>\n",
       "      <th>living with parents and siblings</th>\n",
       "      <th>married</th>\n",
       "      <th>single</th>\n",
       "    </tr>\n",
       "    <tr>\n",
       "      <th>n_dependants</th>\n",
       "      <th></th>\n",
       "      <th></th>\n",
       "      <th></th>\n",
       "      <th></th>\n",
       "    </tr>\n",
       "  </thead>\n",
       "  <tbody>\n",
       "    <tr>\n",
       "      <th>0.0</th>\n",
       "      <td>2510623</td>\n",
       "      <td>0</td>\n",
       "      <td>0</td>\n",
       "      <td>4801897</td>\n",
       "    </tr>\n",
       "    <tr>\n",
       "      <th>1.0</th>\n",
       "      <td>0</td>\n",
       "      <td>487250</td>\n",
       "      <td>6814428</td>\n",
       "      <td>0</td>\n",
       "    </tr>\n",
       "    <tr>\n",
       "      <th>2.0</th>\n",
       "      <td>0</td>\n",
       "      <td>457728</td>\n",
       "      <td>6860917</td>\n",
       "      <td>0</td>\n",
       "    </tr>\n",
       "    <tr>\n",
       "      <th>3.0</th>\n",
       "      <td>0</td>\n",
       "      <td>460162</td>\n",
       "      <td>6877933</td>\n",
       "      <td>0</td>\n",
       "    </tr>\n",
       "  </tbody>\n",
       "</table>\n",
       "</div>"
      ],
      "text/plain": [
       "fam_status    divorced/widowed  living with parents and siblings  married  \\\n",
       "n_dependants                                                                \n",
       "0.0                    2510623                                 0        0   \n",
       "1.0                          0                            487250  6814428   \n",
       "2.0                          0                            457728  6860917   \n",
       "3.0                          0                            460162  6877933   \n",
       "\n",
       "fam_status     single  \n",
       "n_dependants           \n",
       "0.0           4801897  \n",
       "1.0                 0  \n",
       "2.0                 0  \n",
       "3.0                 0  "
      ]
     },
     "execution_count": 57,
     "metadata": {},
     "output_type": "execute_result"
    }
   ],
   "source": [
    "status_depen_crosstab"
   ]
  },
  {
   "cell_type": "code",
   "execution_count": 58,
   "id": "6685eb8a",
   "metadata": {},
   "outputs": [],
   "source": [
    "#Relationship between number of dependents and spender criteria \n",
    "spender_depen_crosstab = pd.crosstab(df_customers['n_dependants'], df_customers['spender_criteria'], dropna = False)"
   ]
  },
  {
   "cell_type": "code",
   "execution_count": 59,
   "id": "ddde4b66",
   "metadata": {},
   "outputs": [
    {
     "data": {
      "text/html": [
       "<div>\n",
       "<style scoped>\n",
       "    .dataframe tbody tr th:only-of-type {\n",
       "        vertical-align: middle;\n",
       "    }\n",
       "\n",
       "    .dataframe tbody tr th {\n",
       "        vertical-align: top;\n",
       "    }\n",
       "\n",
       "    .dataframe thead th {\n",
       "        text-align: right;\n",
       "    }\n",
       "</style>\n",
       "<table border=\"1\" class=\"dataframe\">\n",
       "  <thead>\n",
       "    <tr style=\"text-align: right;\">\n",
       "      <th>spender_criteria</th>\n",
       "      <th>High spender</th>\n",
       "      <th>Low spender</th>\n",
       "    </tr>\n",
       "    <tr>\n",
       "      <th>n_dependants</th>\n",
       "      <th></th>\n",
       "      <th></th>\n",
       "    </tr>\n",
       "  </thead>\n",
       "  <tbody>\n",
       "    <tr>\n",
       "      <th>0.0</th>\n",
       "      <td>7306905</td>\n",
       "      <td>5615</td>\n",
       "    </tr>\n",
       "    <tr>\n",
       "      <th>1.0</th>\n",
       "      <td>7296831</td>\n",
       "      <td>4847</td>\n",
       "    </tr>\n",
       "    <tr>\n",
       "      <th>2.0</th>\n",
       "      <td>7313669</td>\n",
       "      <td>4976</td>\n",
       "    </tr>\n",
       "    <tr>\n",
       "      <th>3.0</th>\n",
       "      <td>7332633</td>\n",
       "      <td>5462</td>\n",
       "    </tr>\n",
       "  </tbody>\n",
       "</table>\n",
       "</div>"
      ],
      "text/plain": [
       "spender_criteria  High spender  Low spender\n",
       "n_dependants                               \n",
       "0.0                    7306905         5615\n",
       "1.0                    7296831         4847\n",
       "2.0                    7313669         4976\n",
       "3.0                    7332633         5462"
      ]
     },
     "execution_count": 59,
     "metadata": {},
     "output_type": "execute_result"
    }
   ],
   "source": [
    "spender_depen_crosstab"
   ]
  },
  {
   "cell_type": "markdown",
   "id": "585f607a",
   "metadata": {},
   "source": [
    "According to the previous table, it doest look like there is a strong relationship between the number od dependents and how much money the person spends since in all the number of dependents the number of high spenders is similar. "
   ]
  },
  {
   "cell_type": "markdown",
   "id": "c38e20b0",
   "metadata": {},
   "source": [
    "#### 5.4 Analyzing customers profile"
   ]
  },
  {
   "cell_type": "code",
   "execution_count": 60,
   "id": "e90b1752",
   "metadata": {},
   "outputs": [
    {
     "data": {
      "text/html": [
       "<div>\n",
       "<style scoped>\n",
       "    .dataframe tbody tr th:only-of-type {\n",
       "        vertical-align: middle;\n",
       "    }\n",
       "\n",
       "    .dataframe tbody tr th {\n",
       "        vertical-align: top;\n",
       "    }\n",
       "\n",
       "    .dataframe thead th {\n",
       "        text-align: right;\n",
       "    }\n",
       "</style>\n",
       "<table border=\"1\" class=\"dataframe\">\n",
       "  <thead>\n",
       "    <tr style=\"text-align: right;\">\n",
       "      <th></th>\n",
       "      <th>Unnamed: 0</th>\n",
       "      <th>department</th>\n",
       "    </tr>\n",
       "  </thead>\n",
       "  <tbody>\n",
       "    <tr>\n",
       "      <th>0</th>\n",
       "      <td>1</td>\n",
       "      <td>frozen</td>\n",
       "    </tr>\n",
       "    <tr>\n",
       "      <th>1</th>\n",
       "      <td>2</td>\n",
       "      <td>other</td>\n",
       "    </tr>\n",
       "    <tr>\n",
       "      <th>2</th>\n",
       "      <td>3</td>\n",
       "      <td>bakery</td>\n",
       "    </tr>\n",
       "    <tr>\n",
       "      <th>3</th>\n",
       "      <td>4</td>\n",
       "      <td>produce</td>\n",
       "    </tr>\n",
       "    <tr>\n",
       "      <th>4</th>\n",
       "      <td>5</td>\n",
       "      <td>alcohol</td>\n",
       "    </tr>\n",
       "    <tr>\n",
       "      <th>5</th>\n",
       "      <td>6</td>\n",
       "      <td>international</td>\n",
       "    </tr>\n",
       "    <tr>\n",
       "      <th>6</th>\n",
       "      <td>7</td>\n",
       "      <td>beverages</td>\n",
       "    </tr>\n",
       "    <tr>\n",
       "      <th>7</th>\n",
       "      <td>8</td>\n",
       "      <td>pets</td>\n",
       "    </tr>\n",
       "    <tr>\n",
       "      <th>8</th>\n",
       "      <td>9</td>\n",
       "      <td>dry goods pasta</td>\n",
       "    </tr>\n",
       "    <tr>\n",
       "      <th>9</th>\n",
       "      <td>10</td>\n",
       "      <td>bulk</td>\n",
       "    </tr>\n",
       "    <tr>\n",
       "      <th>10</th>\n",
       "      <td>11</td>\n",
       "      <td>personal care</td>\n",
       "    </tr>\n",
       "    <tr>\n",
       "      <th>11</th>\n",
       "      <td>12</td>\n",
       "      <td>meat seafood</td>\n",
       "    </tr>\n",
       "    <tr>\n",
       "      <th>12</th>\n",
       "      <td>13</td>\n",
       "      <td>pantry</td>\n",
       "    </tr>\n",
       "    <tr>\n",
       "      <th>13</th>\n",
       "      <td>14</td>\n",
       "      <td>breakfast</td>\n",
       "    </tr>\n",
       "    <tr>\n",
       "      <th>14</th>\n",
       "      <td>15</td>\n",
       "      <td>canned goods</td>\n",
       "    </tr>\n",
       "    <tr>\n",
       "      <th>15</th>\n",
       "      <td>16</td>\n",
       "      <td>dairy eggs</td>\n",
       "    </tr>\n",
       "    <tr>\n",
       "      <th>16</th>\n",
       "      <td>17</td>\n",
       "      <td>household</td>\n",
       "    </tr>\n",
       "    <tr>\n",
       "      <th>17</th>\n",
       "      <td>18</td>\n",
       "      <td>babies</td>\n",
       "    </tr>\n",
       "    <tr>\n",
       "      <th>18</th>\n",
       "      <td>19</td>\n",
       "      <td>snacks</td>\n",
       "    </tr>\n",
       "    <tr>\n",
       "      <th>19</th>\n",
       "      <td>20</td>\n",
       "      <td>deli</td>\n",
       "    </tr>\n",
       "    <tr>\n",
       "      <th>20</th>\n",
       "      <td>21</td>\n",
       "      <td>missing</td>\n",
       "    </tr>\n",
       "  </tbody>\n",
       "</table>\n",
       "</div>"
      ],
      "text/plain": [
       "    Unnamed: 0       department\n",
       "0            1           frozen\n",
       "1            2            other\n",
       "2            3           bakery\n",
       "3            4          produce\n",
       "4            5          alcohol\n",
       "5            6    international\n",
       "6            7        beverages\n",
       "7            8             pets\n",
       "8            9  dry goods pasta\n",
       "9           10             bulk\n",
       "10          11    personal care\n",
       "11          12     meat seafood\n",
       "12          13           pantry\n",
       "13          14        breakfast\n",
       "14          15     canned goods\n",
       "15          16       dairy eggs\n",
       "16          17        household\n",
       "17          18           babies\n",
       "18          19           snacks\n",
       "19          20             deli\n",
       "20          21          missing"
      ]
     },
     "execution_count": 60,
     "metadata": {},
     "output_type": "execute_result"
    }
   ],
   "source": [
    "# Checing the table departments\n",
    "df_departments"
   ]
  },
  {
   "cell_type": "code",
   "execution_count": 61,
   "id": "9cd4275e",
   "metadata": {},
   "outputs": [],
   "source": [
    "#Replacing Unnamed by departind_id \n",
    "df_departments.rename(columns={\"Unnamed: 0\":\"department_id\"}, inplace = True )"
   ]
  },
  {
   "cell_type": "code",
   "execution_count": 62,
   "id": "9c029b73",
   "metadata": {},
   "outputs": [
    {
     "data": {
      "text/plain": [
       "{1: 'frozen',\n",
       " 2: 'other',\n",
       " 3: 'bakery',\n",
       " 4: 'produce',\n",
       " 5: 'alcohol',\n",
       " 6: 'international',\n",
       " 7: 'beverages',\n",
       " 8: 'pets',\n",
       " 9: 'dry goods pasta',\n",
       " 10: 'bulk',\n",
       " 11: 'personal care',\n",
       " 12: 'meat seafood',\n",
       " 13: 'pantry',\n",
       " 14: 'breakfast',\n",
       " 15: 'canned goods',\n",
       " 16: 'dairy eggs',\n",
       " 17: 'household',\n",
       " 18: 'babies',\n",
       " 19: 'snacks',\n",
       " 20: 'deli',\n",
       " 21: 'missing'}"
      ]
     },
     "execution_count": 62,
     "metadata": {},
     "output_type": "execute_result"
    }
   ],
   "source": [
    "#Determining the departments table as dictionary \n",
    "depart_dict = dict(zip(df_departments[\"department_id\"], df_departments[\"department\"]))\n",
    "depart_dict"
   ]
  },
  {
   "cell_type": "code",
   "execution_count": 63,
   "id": "9656359f",
   "metadata": {},
   "outputs": [
    {
     "name": "stderr",
     "output_type": "stream",
     "text": [
      "C:\\Users\\ale_o\\AppData\\Local\\Temp\\ipykernel_29808\\2926802647.py:1: SettingWithCopyWarning: \n",
      "A value is trying to be set on a copy of a slice from a DataFrame.\n",
      "Try using .loc[row_indexer,col_indexer] = value instead\n",
      "\n",
      "See the caveats in the documentation: https://pandas.pydata.org/pandas-docs/stable/user_guide/indexing.html#returning-a-view-versus-a-copy\n",
      "  df_customers['department'] = df_customers['department_id'].map(depart_dict)\n"
     ]
    }
   ],
   "source": [
    "df_customers['department'] = df_customers['department_id'].map(depart_dict)"
   ]
  },
  {
   "cell_type": "code",
   "execution_count": 64,
   "id": "ef803217",
   "metadata": {},
   "outputs": [
    {
     "data": {
      "text/plain": [
       "produce            9079273\n",
       "dairy eggs         5177182\n",
       "snacks             2766406\n",
       "beverages          2571901\n",
       "frozen             2121731\n",
       "pantry             1782705\n",
       "bakery             1120828\n",
       "canned goods       1012074\n",
       "deli               1003834\n",
       "dry goods pasta     822136\n",
       "household           699857\n",
       "meat seafood        674781\n",
       "breakfast           670850\n",
       "personal care       424306\n",
       "babies              410392\n",
       "international       255991\n",
       "alcohol             144627\n",
       "pets                 93060\n",
       "missing              64768\n",
       "other                34411\n",
       "bulk                 33451\n",
       "Name: department, dtype: int64"
      ]
     },
     "execution_count": 64,
     "metadata": {},
     "output_type": "execute_result"
    }
   ],
   "source": [
    "df_customers['department'].value_counts(dropna = False)"
   ]
  },
  {
   "cell_type": "code",
   "execution_count": 65,
   "id": "0ea7547f",
   "metadata": {},
   "outputs": [
    {
     "name": "stderr",
     "output_type": "stream",
     "text": [
      "C:\\Users\\ale_o\\AppData\\Local\\Temp\\ipykernel_29808\\3146668238.py:2: SettingWithCopyWarning: \n",
      "A value is trying to be set on a copy of a slice from a DataFrame.\n",
      "Try using .loc[row_indexer,col_indexer] = value instead\n",
      "\n",
      "See the caveats in the documentation: https://pandas.pydata.org/pandas-docs/stable/user_guide/indexing.html#returning-a-view-versus-a-copy\n",
      "  df_customers.loc[df_customers['department'] == 'babies', 'parents'] = 'Yes'\n"
     ]
    }
   ],
   "source": [
    "# Analyzing customers that are parents\n",
    "df_customers.loc[df_customers['department'] == 'babies', 'parents'] = 'Yes'\n",
    "df_customers.loc[df_customers['department'] != 'babies', 'parents'] = 'No'"
   ]
  },
  {
   "cell_type": "code",
   "execution_count": 66,
   "id": "a8f1aa19",
   "metadata": {},
   "outputs": [
    {
     "data": {
      "text/plain": [
       "No     30554172\n",
       "Yes      410392\n",
       "Name: parents, dtype: int64"
      ]
     },
     "execution_count": 66,
     "metadata": {},
     "output_type": "execute_result"
    }
   ],
   "source": [
    "df_customers['parents'].value_counts(dropna = False)"
   ]
  },
  {
   "cell_type": "code",
   "execution_count": 67,
   "id": "d48e5a5f",
   "metadata": {},
   "outputs": [
    {
     "name": "stderr",
     "output_type": "stream",
     "text": [
      "C:\\Users\\ale_o\\AppData\\Local\\Temp\\ipykernel_29808\\3886850456.py:2: SettingWithCopyWarning: \n",
      "A value is trying to be set on a copy of a slice from a DataFrame.\n",
      "Try using .loc[row_indexer,col_indexer] = value instead\n",
      "\n",
      "See the caveats in the documentation: https://pandas.pydata.org/pandas-docs/stable/user_guide/indexing.html#returning-a-view-versus-a-copy\n",
      "  df_customers.loc[df_customers['department'] == 'canned goods', 'canned_food'] = 'Yes'\n"
     ]
    }
   ],
   "source": [
    "# Analyzing customers that prefer canned goods \n",
    "df_customers.loc[df_customers['department'] == 'canned goods', 'canned_food'] = 'Yes'\n",
    "df_customers.loc[df_customers['department'] != 'canned goods', 'canned_food'] = 'No'"
   ]
  },
  {
   "cell_type": "code",
   "execution_count": 68,
   "id": "5c721ea5",
   "metadata": {},
   "outputs": [
    {
     "data": {
      "text/plain": [
       "No     29952490\n",
       "Yes     1012074\n",
       "Name: canned_food, dtype: int64"
      ]
     },
     "execution_count": 68,
     "metadata": {},
     "output_type": "execute_result"
    }
   ],
   "source": [
    "df_customers['canned_food'].value_counts(dropna = False)"
   ]
  },
  {
   "cell_type": "code",
   "execution_count": 69,
   "id": "65b88123",
   "metadata": {},
   "outputs": [
    {
     "name": "stderr",
     "output_type": "stream",
     "text": [
      "C:\\Users\\ale_o\\AppData\\Local\\Temp\\ipykernel_29808\\4228589597.py:2: SettingWithCopyWarning: \n",
      "A value is trying to be set on a copy of a slice from a DataFrame.\n",
      "Try using .loc[row_indexer,col_indexer] = value instead\n",
      "\n",
      "See the caveats in the documentation: https://pandas.pydata.org/pandas-docs/stable/user_guide/indexing.html#returning-a-view-versus-a-copy\n",
      "  df_customers.loc[df_customers['department'] == 'alcohol', 'alcohol_intake'] = 'Yes'\n"
     ]
    }
   ],
   "source": [
    "# Analyzing customers that take alcohol \n",
    "df_customers.loc[df_customers['department'] == 'alcohol', 'alcohol_intake'] = 'Yes'\n",
    "df_customers.loc[df_customers['department'] != 'alcohol', 'alcohol_intake'] = 'No'"
   ]
  },
  {
   "cell_type": "code",
   "execution_count": 70,
   "id": "1af4879c",
   "metadata": {},
   "outputs": [
    {
     "data": {
      "text/plain": [
       "No     30819937\n",
       "Yes      144627\n",
       "Name: alcohol_intake, dtype: int64"
      ]
     },
     "execution_count": 70,
     "metadata": {},
     "output_type": "execute_result"
    }
   ],
   "source": [
    "df_customers['alcohol_intake'].value_counts(dropna= False)"
   ]
  },
  {
   "cell_type": "code",
   "execution_count": 71,
   "id": "cfab524e",
   "metadata": {},
   "outputs": [
    {
     "data": {
      "text/plain": [
       "0    5908610\n",
       "1    5411686\n",
       "2    4024706\n",
       "3    3669535\n",
       "4    3624994\n",
       "5    4033729\n",
       "6    4291304\n",
       "Name: orders_day_of_week, dtype: int64"
      ]
     },
     "execution_count": 71,
     "metadata": {},
     "output_type": "execute_result"
    }
   ],
   "source": [
    "#Analyzing purchases by day of the week \n",
    "df_customers['orders_day_of_week'].value_counts(dropna = False).sort_index()"
   ]
  },
  {
   "cell_type": "code",
   "execution_count": 72,
   "id": "199b81cf",
   "metadata": {},
   "outputs": [
    {
     "name": "stderr",
     "output_type": "stream",
     "text": [
      "C:\\Users\\ale_o\\AppData\\Local\\Temp\\ipykernel_29808\\122862708.py:1: SettingWithCopyWarning: \n",
      "A value is trying to be set on a copy of a slice from a DataFrame.\n",
      "Try using .loc[row_indexer,col_indexer] = value instead\n",
      "\n",
      "See the caveats in the documentation: https://pandas.pydata.org/pandas-docs/stable/user_guide/indexing.html#returning-a-view-versus-a-copy\n",
      "  df_customers.loc[(df_customers['orders_day_of_week'] > 0) & (df_customers['orders_day_of_week'] <3), 'time_of_week'] = 'Beginning of the_week'\n"
     ]
    }
   ],
   "source": [
    "df_customers.loc[(df_customers['orders_day_of_week'] > 0) & (df_customers['orders_day_of_week'] <3), 'time_of_week'] = 'Beginning of the_week'\n",
    "df_customers.loc[(df_customers['orders_day_of_week'] >= 3) & (df_customers['orders_day_of_week'] <5), 'time_of_week'] = 'Middle of the week'\n",
    "df_customers.loc[(df_customers['orders_day_of_week'] >= 5), 'time_of_week'] = 'End of the week'"
   ]
  },
  {
   "cell_type": "code",
   "execution_count": 73,
   "id": "cb4c4357",
   "metadata": {},
   "outputs": [
    {
     "data": {
      "text/plain": [
       "Beginning of the_week    9436392\n",
       "End of the week          8325033\n",
       "Middle of the week       7294529\n",
       "NaN                      5908610\n",
       "Name: time_of_week, dtype: int64"
      ]
     },
     "execution_count": 73,
     "metadata": {},
     "output_type": "execute_result"
    }
   ],
   "source": [
    "df_customers['time_of_week'].value_counts(dropna = False )"
   ]
  },
  {
   "cell_type": "markdown",
   "id": "54e4670c",
   "metadata": {},
   "source": [
    "### 6. Create an appropriate visualization to show the distribution of profiles."
   ]
  },
  {
   "cell_type": "code",
   "execution_count": 74,
   "id": "37ac1816",
   "metadata": {},
   "outputs": [
    {
     "data": {
      "text/plain": [
       "Text(0, 0.5, 'Number of customers')"
      ]
     },
     "execution_count": 74,
     "metadata": {},
     "output_type": "execute_result"
    },
    {
     "data": {
      "image/png": "[encoded data removed]",
      "text/plain": [
       "<Figure size 640x480 with 1 Axes>"
      ]
     },
     "metadata": {},
     "output_type": "display_data"
    }
   ],
   "source": [
    "#Creating a bar for customers that have babies \n",
    "parents_bar = df_customers['parents'].value_counts().plot.bar(color =['darkblue','skyblue'])\n",
    "plt.title(\"Customers with babies\", fontsize = '16')\n",
    "plt.xlabel(\"Preference\")\n",
    "plt.ylabel(\"Number of customers\")"
   ]
  },
  {
   "cell_type": "code",
   "execution_count": 76,
   "id": "bc5b8611",
   "metadata": {},
   "outputs": [
    {
     "data": {
      "text/plain": [
       "Text(0.5, 1.0, 'Frequency of order by loyalty group')"
      ]
     },
     "execution_count": 76,
     "metadata": {},
     "output_type": "execute_result"
    },
    {
     "data": {
      "image/png": "[encoded data removed]",
      "text/plain": [
       "<Figure size 640x480 with 1 Axes>"
      ]
     },
     "metadata": {},
     "output_type": "display_data"
    }
   ],
   "source": [
    "# Analyzing customers by loyalty \n",
    "bar_loyalty = df_customers['loyalty_flag'].value_counts().plot.bar(color= ['darkblue', 'steelblue','skyblue'])\n",
    "plt.xlabel('Loyalty category')\n",
    "plt.ylabel('Frequency in millions')\n",
    "plt.title('Frequency of order by loyalty group')"
   ]
  },
  {
   "cell_type": "code",
   "execution_count": 109,
   "id": "73c0ca52",
   "metadata": {},
   "outputs": [
    {
     "data": {
      "text/plain": [
       "Text(0.5, 1.0, 'Orders distribution by familisy status')"
      ]
     },
     "execution_count": 109,
     "metadata": {},
     "output_type": "execute_result"
    },
    {
     "data": {
      "image/png": "[encoded data removed]",
      "text/plain": [
       "<Figure size 640x480 with 1 Axes>"
      ]
     },
     "metadata": {},
     "output_type": "display_data"
    }
   ],
   "source": [
    "# Creating bar chart for customers by family status \n",
    "bar_fam_status = df_customers['fam_status'].value_counts().plot.bar(color = ['darkblue', 'blue', 'steelblue', 'skyblue'])\n",
    "plt.xlabel('Family status')\n",
    "plt.ylabel('Frequency in millions')\n",
    "plt.title ('Orders distribution by familisy status')"
   ]
  },
  {
   "cell_type": "code",
   "execution_count": 133,
   "id": "763773a6",
   "metadata": {},
   "outputs": [
    {
     "data": {
      "text/plain": [
       "Text(0.5, 1.0, 'Canned food preference')"
      ]
     },
     "execution_count": 133,
     "metadata": {},
     "output_type": "execute_result"
    },
    {
     "data": {
      "image/png": "[encoded data removed]",
      "text/plain": [
       "<Figure size 640x480 with 1 Axes>"
      ]
     },
     "metadata": {},
     "output_type": "display_data"
    }
   ],
   "source": [
    "#Creating a bar chart for customers that prefer canned foods \n",
    "canned_foods_bar = df_customers['canned_food'].value_counts().plot.bar(color=['darkblue', 'skyblue'])\n",
    "plt.title(\"Canned food preference\", fontsize = '16')"
   ]
  },
  {
   "cell_type": "code",
   "execution_count": 134,
   "id": "6791927d",
   "metadata": {},
   "outputs": [
    {
     "data": {
      "text/plain": [
       "Text(0, 0.5, 'Number of customers')"
      ]
     },
     "execution_count": 134,
     "metadata": {},
     "output_type": "execute_result"
    },
    {
     "data": {
      "image/png": "[encoded data removed]",
      "text/plain": [
       "<Figure size 640x480 with 1 Axes>"
      ]
     },
     "metadata": {},
     "output_type": "display_data"
    }
   ],
   "source": [
    "# Bar chart for customers that drink alcohol \n",
    "alcohol_customers_bar = df_customers['alcohol_intake'].value_counts().plot.bar(color=['darkblue', 'skyblue'])\n",
    "plt.title('Alcohol drinkers customers', fontsize = '16')\n",
    "plt.xlabel('Preference')\n",
    "plt.ylabel('Number of customers')"
   ]
  },
  {
   "cell_type": "code",
   "execution_count": 136,
   "id": "e5e4e597",
   "metadata": {},
   "outputs": [
    {
     "data": {
      "text/plain": [
       "Text(0, 0.5, 'Number of orders')"
      ]
     },
     "execution_count": 136,
     "metadata": {},
     "output_type": "execute_result"
    },
    {
     "data": {
      "image/png": "[encoded data removed]",
      "text/plain": [
       "<Figure size 640x480 with 1 Axes>"
      ]
     },
     "metadata": {},
     "output_type": "display_data"
    }
   ],
   "source": [
    "# Bar for analyzing the weekly behaviour of the purchases\n",
    "week_purchase_bar = df_customers['time_of_week'].value_counts().plot.bar(color = ['darkblue','steelblue', 'skyblue'])\n",
    "plt.title('Sales by day of the week')\n",
    "plt.xlabel('Day of the week')\n",
    "plt.ylabel('Number of orders')"
   ]
  },
  {
   "cell_type": "code",
   "execution_count": 140,
   "id": "910fae8b",
   "metadata": {},
   "outputs": [
    {
     "data": {
      "text/plain": [
       "Text(0, 0.5, 'Number of customers (millions)')"
      ]
     },
     "execution_count": 140,
     "metadata": {},
     "output_type": "execute_result"
    },
    {
     "data": {
      "image/png": "[encoded data removed]",
      "text/plain": [
       "<Figure size 640x480 with 1 Axes>"
      ]
     },
     "metadata": {},
     "output_type": "display_data"
    }
   ],
   "source": [
    "# Creating a chart for number of dependents by customer\n",
    "no_depen_bar = df_customers['dependents'].value_counts().plot.bar(color = ['darkblue','steelblue', 'skyblue'])\n",
    "plt.title('Number of dependents by customer')\n",
    "plt.xlabel('Number of dependents')\n",
    "plt.ylabel('Number of customers (millions)')"
   ]
  },
  {
   "cell_type": "code",
   "execution_count": 143,
   "id": "48c372d9",
   "metadata": {},
   "outputs": [
    {
     "data": {
      "text/plain": [
       "Text(0, 0.5, 'Number of customers (millions)')"
      ]
     },
     "execution_count": 143,
     "metadata": {},
     "output_type": "execute_result"
    },
    {
     "data": {
      "image/png": "[encoded data removed]",
      "text/plain": [
       "<Figure size 640x480 with 1 Axes>"
      ]
     },
     "metadata": {},
     "output_type": "display_data"
    }
   ],
   "source": [
    "#Creating chart for number of customers by age\n",
    "age_bar = df_customers['age_group'].value_counts().plot.bar(color = ['darkblue','steelblue', 'skyblue'])\n",
    "plt.title('Customers distribution by age', fontsize = '16')\n",
    "plt.xlabel('Age group')\n",
    "plt.ylabel('Number of customers (millions)')\n"
   ]
  },
  {
   "cell_type": "code",
   "execution_count": 97,
   "id": "7444a825",
   "metadata": {},
   "outputs": [
    {
     "data": {
      "text/plain": [
       "Text(0.5, 1.0, 'Orders distribution by region')"
      ]
     },
     "execution_count": 97,
     "metadata": {},
     "output_type": "execute_result"
    },
    {
     "data": {
      "image/png": "[encoded data removed]",
      "text/plain": [
       "<Figure size 640x480 with 1 Axes>"
      ]
     },
     "metadata": {},
     "output_type": "display_data"
    }
   ],
   "source": [
    "# Creating bar for behaviour by region \n",
    "region_bar = df_customers['region'].value_counts().plot.bar(color = ['darkblue', 'steelblue', 'skyblue', 'blue'])\n",
    "plt.xlabel('Region')\n",
    "plt.ylabel('Frequency in millions')\n",
    "plt.title('Orders distribution by region')"
   ]
  },
  {
   "cell_type": "code",
   "execution_count": 149,
   "id": "286d8c20",
   "metadata": {},
   "outputs": [
    {
     "data": {
      "text/plain": [
       "Text(0, 0.5, 'Customers (millions)')"
      ]
     },
     "execution_count": 149,
     "metadata": {},
     "output_type": "execute_result"
    },
    {
     "data": {
      "image/png": "[encoded data removed]",
      "text/plain": [
       "<Figure size 640x480 with 1 Axes>"
      ]
     },
     "metadata": {},
     "output_type": "display_data"
    }
   ],
   "source": [
    "#Creating bar for income status \n",
    "income_bar = df_customers['income_category'].value_counts().plot.bar(color = ['darkblue','steelblue', 'skyblue'])\n",
    "plt.title('Customers distribution by income')\n",
    "plt.xlabel('Income group')\n",
    "plt.ylabel('Customers (millions)')\n",
    "\n"
   ]
  },
  {
   "cell_type": "code",
   "execution_count": 170,
   "id": "75900256",
   "metadata": {},
   "outputs": [
    {
     "data": {
      "text/plain": [
       "<matplotlib.legend.Legend at 0x29f1ad29bb0>"
      ]
     },
     "execution_count": 170,
     "metadata": {},
     "output_type": "execute_result"
    },
    {
     "data": {
      "image/png": "[encoded data removed]",
      "text/plain": [
       "<Figure size 640x480 with 1 Axes>"
      ]
     },
     "metadata": {},
     "output_type": "display_data"
    }
   ],
   "source": [
    "# Details of type of custer (high/low spender) by region\n",
    "spender_crosstab_bar = status_depen_crosstab.plot(kind = 'bar', rot =0 ,color = ['darkblue','steelblue', 'skyblue'])\n",
    "plt.xlabel('Number of dependents')\n",
    "plt.ylabel('Frequency in millions')\n",
    "plt.title ('Number of dependets by family status')\n",
    "spender_crosstab_bar.legend(title='Family status', bbox_to_anchor=(1, 1), loc='upper left')"
   ]
  },
  {
   "cell_type": "markdown",
   "id": "ef983a53",
   "metadata": {},
   "source": [
    "### 7. Aggregate the max, mean, and min variables on a customer-profile level for usage frequency and expenditure."
   ]
  },
  {
   "cell_type": "code",
   "execution_count": 172,
   "id": "d8478f89",
   "metadata": {},
   "outputs": [
    {
     "data": {
      "text/html": [
       "<div>\n",
       "<style scoped>\n",
       "    .dataframe tbody tr th:only-of-type {\n",
       "        vertical-align: middle;\n",
       "    }\n",
       "\n",
       "    .dataframe tbody tr th {\n",
       "        vertical-align: top;\n",
       "    }\n",
       "\n",
       "    .dataframe thead tr th {\n",
       "        text-align: left;\n",
       "    }\n",
       "\n",
       "    .dataframe thead tr:last-of-type th {\n",
       "        text-align: right;\n",
       "    }\n",
       "</style>\n",
       "<table border=\"1\" class=\"dataframe\">\n",
       "  <thead>\n",
       "    <tr>\n",
       "      <th></th>\n",
       "      <th colspan=\"3\" halign=\"left\">add_to_cart_order</th>\n",
       "    </tr>\n",
       "    <tr>\n",
       "      <th></th>\n",
       "      <th>mean</th>\n",
       "      <th>min</th>\n",
       "      <th>max</th>\n",
       "    </tr>\n",
       "    <tr>\n",
       "      <th>region</th>\n",
       "      <th></th>\n",
       "      <th></th>\n",
       "      <th></th>\n",
       "    </tr>\n",
       "  </thead>\n",
       "  <tbody>\n",
       "    <tr>\n",
       "      <th>Midwest</th>\n",
       "      <td>8.344935</td>\n",
       "      <td>1.0</td>\n",
       "      <td>109.0</td>\n",
       "    </tr>\n",
       "    <tr>\n",
       "      <th>Northeast</th>\n",
       "      <td>8.383926</td>\n",
       "      <td>1.0</td>\n",
       "      <td>145.0</td>\n",
       "    </tr>\n",
       "    <tr>\n",
       "      <th>South</th>\n",
       "      <td>8.373722</td>\n",
       "      <td>1.0</td>\n",
       "      <td>137.0</td>\n",
       "    </tr>\n",
       "    <tr>\n",
       "      <th>West</th>\n",
       "      <td>8.362514</td>\n",
       "      <td>1.0</td>\n",
       "      <td>114.0</td>\n",
       "    </tr>\n",
       "  </tbody>\n",
       "</table>\n",
       "</div>"
      ],
      "text/plain": [
       "          add_to_cart_order            \n",
       "                       mean  min    max\n",
       "region                                 \n",
       "Midwest            8.344935  1.0  109.0\n",
       "Northeast          8.383926  1.0  145.0\n",
       "South              8.373722  1.0  137.0\n",
       "West               8.362514  1.0  114.0"
      ]
     },
     "execution_count": 172,
     "metadata": {},
     "output_type": "execute_result"
    }
   ],
   "source": [
    "#Analyzing orders by region\n",
    "df_customers.groupby('region').agg ({'add_to_cart_order': ['mean', 'min', 'max']})"
   ]
  },
  {
   "cell_type": "code",
   "execution_count": 173,
   "id": "097cb8fd",
   "metadata": {},
   "outputs": [
    {
     "data": {
      "text/html": [
       "<div>\n",
       "<style scoped>\n",
       "    .dataframe tbody tr th:only-of-type {\n",
       "        vertical-align: middle;\n",
       "    }\n",
       "\n",
       "    .dataframe tbody tr th {\n",
       "        vertical-align: top;\n",
       "    }\n",
       "\n",
       "    .dataframe thead tr th {\n",
       "        text-align: left;\n",
       "    }\n",
       "\n",
       "    .dataframe thead tr:last-of-type th {\n",
       "        text-align: right;\n",
       "    }\n",
       "</style>\n",
       "<table border=\"1\" class=\"dataframe\">\n",
       "  <thead>\n",
       "    <tr>\n",
       "      <th></th>\n",
       "      <th colspan=\"3\" halign=\"left\">income</th>\n",
       "    </tr>\n",
       "    <tr>\n",
       "      <th></th>\n",
       "      <th>mean</th>\n",
       "      <th>min</th>\n",
       "      <th>max</th>\n",
       "    </tr>\n",
       "    <tr>\n",
       "      <th>region</th>\n",
       "      <th></th>\n",
       "      <th></th>\n",
       "      <th></th>\n",
       "    </tr>\n",
       "  </thead>\n",
       "  <tbody>\n",
       "    <tr>\n",
       "      <th>Midwest</th>\n",
       "      <td>100569.124970</td>\n",
       "      <td>25903.0</td>\n",
       "      <td>579397.0</td>\n",
       "    </tr>\n",
       "    <tr>\n",
       "      <th>Northeast</th>\n",
       "      <td>99853.488681</td>\n",
       "      <td>26095.0</td>\n",
       "      <td>584097.0</td>\n",
       "    </tr>\n",
       "    <tr>\n",
       "      <th>South</th>\n",
       "      <td>99197.109927</td>\n",
       "      <td>25911.0</td>\n",
       "      <td>591089.0</td>\n",
       "    </tr>\n",
       "    <tr>\n",
       "      <th>West</th>\n",
       "      <td>99440.118309</td>\n",
       "      <td>25941.0</td>\n",
       "      <td>593901.0</td>\n",
       "    </tr>\n",
       "  </tbody>\n",
       "</table>\n",
       "</div>"
      ],
      "text/plain": [
       "                  income                   \n",
       "                    mean      min       max\n",
       "region                                     \n",
       "Midwest    100569.124970  25903.0  579397.0\n",
       "Northeast   99853.488681  26095.0  584097.0\n",
       "South       99197.109927  25911.0  591089.0\n",
       "West        99440.118309  25941.0  593901.0"
      ]
     },
     "execution_count": 173,
     "metadata": {},
     "output_type": "execute_result"
    }
   ],
   "source": [
    "#Analyzing income by region\n",
    "df_customers.groupby('region').agg ({'income': ['mean', 'min','max']})"
   ]
  },
  {
   "cell_type": "code",
   "execution_count": 192,
   "id": "fce6c45b",
   "metadata": {},
   "outputs": [
    {
     "data": {
      "text/html": [
       "<div>\n",
       "<style scoped>\n",
       "    .dataframe tbody tr th:only-of-type {\n",
       "        vertical-align: middle;\n",
       "    }\n",
       "\n",
       "    .dataframe tbody tr th {\n",
       "        vertical-align: top;\n",
       "    }\n",
       "\n",
       "    .dataframe thead tr th {\n",
       "        text-align: left;\n",
       "    }\n",
       "\n",
       "    .dataframe thead tr:last-of-type th {\n",
       "        text-align: right;\n",
       "    }\n",
       "</style>\n",
       "<table border=\"1\" class=\"dataframe\">\n",
       "  <thead>\n",
       "    <tr>\n",
       "      <th></th>\n",
       "      <th colspan=\"3\" halign=\"left\">income</th>\n",
       "    </tr>\n",
       "    <tr>\n",
       "      <th></th>\n",
       "      <th>mean</th>\n",
       "      <th>min</th>\n",
       "      <th>max</th>\n",
       "    </tr>\n",
       "    <tr>\n",
       "      <th>income_category</th>\n",
       "      <th></th>\n",
       "      <th></th>\n",
       "      <th></th>\n",
       "    </tr>\n",
       "  </thead>\n",
       "  <tbody>\n",
       "    <tr>\n",
       "      <th>High income</th>\n",
       "      <td>170485.271854</td>\n",
       "      <td>150000.0</td>\n",
       "      <td>593901.0</td>\n",
       "    </tr>\n",
       "    <tr>\n",
       "      <th>Low income</th>\n",
       "      <td>57423.565490</td>\n",
       "      <td>25903.0</td>\n",
       "      <td>79999.0</td>\n",
       "    </tr>\n",
       "    <tr>\n",
       "      <th>Middle income</th>\n",
       "      <td>111439.917678</td>\n",
       "      <td>80000.0</td>\n",
       "      <td>149999.0</td>\n",
       "    </tr>\n",
       "  </tbody>\n",
       "</table>\n",
       "</div>"
      ],
      "text/plain": [
       "                        income                    \n",
       "                          mean       min       max\n",
       "income_category                                   \n",
       "High income      170485.271854  150000.0  593901.0\n",
       "Low income        57423.565490   25903.0   79999.0\n",
       "Middle income    111439.917678   80000.0  149999.0"
      ]
     },
     "execution_count": 192,
     "metadata": {},
     "output_type": "execute_result"
    }
   ],
   "source": [
    "# Analyzing income by income category\n",
    "df_customers.groupby('income_category').agg ({'income': ['mean', 'min','max']})"
   ]
  },
  {
   "cell_type": "code",
   "execution_count": 194,
   "id": "8cc576c7",
   "metadata": {},
   "outputs": [
    {
     "data": {
      "text/html": [
       "<div>\n",
       "<style scoped>\n",
       "    .dataframe tbody tr th:only-of-type {\n",
       "        vertical-align: middle;\n",
       "    }\n",
       "\n",
       "    .dataframe tbody tr th {\n",
       "        vertical-align: top;\n",
       "    }\n",
       "\n",
       "    .dataframe thead tr th {\n",
       "        text-align: left;\n",
       "    }\n",
       "\n",
       "    .dataframe thead tr:last-of-type th {\n",
       "        text-align: right;\n",
       "    }\n",
       "</style>\n",
       "<table border=\"1\" class=\"dataframe\">\n",
       "  <thead>\n",
       "    <tr>\n",
       "      <th></th>\n",
       "      <th colspan=\"3\" halign=\"left\">prices</th>\n",
       "    </tr>\n",
       "    <tr>\n",
       "      <th></th>\n",
       "      <th>mean</th>\n",
       "      <th>min</th>\n",
       "      <th>max</th>\n",
       "    </tr>\n",
       "    <tr>\n",
       "      <th>income_category</th>\n",
       "      <th></th>\n",
       "      <th></th>\n",
       "      <th></th>\n",
       "    </tr>\n",
       "  </thead>\n",
       "  <tbody>\n",
       "    <tr>\n",
       "      <th>High income</th>\n",
       "      <td>32.025381</td>\n",
       "      <td>1.0</td>\n",
       "      <td>99999.0</td>\n",
       "    </tr>\n",
       "    <tr>\n",
       "      <th>Low income</th>\n",
       "      <td>7.501979</td>\n",
       "      <td>1.0</td>\n",
       "      <td>14900.0</td>\n",
       "    </tr>\n",
       "    <tr>\n",
       "      <th>Middle income</th>\n",
       "      <td>9.979639</td>\n",
       "      <td>1.0</td>\n",
       "      <td>99999.0</td>\n",
       "    </tr>\n",
       "  </tbody>\n",
       "</table>\n",
       "</div>"
      ],
      "text/plain": [
       "                    prices              \n",
       "                      mean  min      max\n",
       "income_category                         \n",
       "High income      32.025381  1.0  99999.0\n",
       "Low income        7.501979  1.0  14900.0\n",
       "Middle income     9.979639  1.0  99999.0"
      ]
     },
     "execution_count": 194,
     "metadata": {},
     "output_type": "execute_result"
    }
   ],
   "source": [
    "#Analyzing amount of money spent by income category \n",
    "df_customers.groupby('income_category').agg({'prices': ['mean', 'min', 'max']})"
   ]
  },
  {
   "cell_type": "code",
   "execution_count": 178,
   "id": "278594d0",
   "metadata": {},
   "outputs": [
    {
     "data": {
      "text/html": [
       "<div>\n",
       "<style scoped>\n",
       "    .dataframe tbody tr th:only-of-type {\n",
       "        vertical-align: middle;\n",
       "    }\n",
       "\n",
       "    .dataframe tbody tr th {\n",
       "        vertical-align: top;\n",
       "    }\n",
       "\n",
       "    .dataframe thead tr th {\n",
       "        text-align: left;\n",
       "    }\n",
       "\n",
       "    .dataframe thead tr:last-of-type th {\n",
       "        text-align: right;\n",
       "    }\n",
       "</style>\n",
       "<table border=\"1\" class=\"dataframe\">\n",
       "  <thead>\n",
       "    <tr>\n",
       "      <th></th>\n",
       "      <th colspan=\"3\" halign=\"left\">income</th>\n",
       "    </tr>\n",
       "    <tr>\n",
       "      <th></th>\n",
       "      <th>mean</th>\n",
       "      <th>min</th>\n",
       "      <th>max</th>\n",
       "    </tr>\n",
       "    <tr>\n",
       "      <th>age_group</th>\n",
       "      <th></th>\n",
       "      <th></th>\n",
       "      <th></th>\n",
       "    </tr>\n",
       "  </thead>\n",
       "  <tbody>\n",
       "    <tr>\n",
       "      <th>Adults</th>\n",
       "      <td>96824.334942</td>\n",
       "      <td>25903.0</td>\n",
       "      <td>591089.0</td>\n",
       "    </tr>\n",
       "    <tr>\n",
       "      <th>Seniors</th>\n",
       "      <td>115934.118857</td>\n",
       "      <td>29001.0</td>\n",
       "      <td>593901.0</td>\n",
       "    </tr>\n",
       "    <tr>\n",
       "      <th>Youth</th>\n",
       "      <td>70571.340708</td>\n",
       "      <td>25972.0</td>\n",
       "      <td>396364.0</td>\n",
       "    </tr>\n",
       "  </tbody>\n",
       "</table>\n",
       "</div>"
      ],
      "text/plain": [
       "                  income                   \n",
       "                    mean      min       max\n",
       "age_group                                  \n",
       "Adults      96824.334942  25903.0  591089.0\n",
       "Seniors    115934.118857  29001.0  593901.0\n",
       "Youth       70571.340708  25972.0  396364.0"
      ]
     },
     "execution_count": 178,
     "metadata": {},
     "output_type": "execute_result"
    }
   ],
   "source": [
    "# Anayzing group age (income)\n",
    "\n",
    "df_customers.groupby('age_group').agg({'income': ['mean', 'min', 'max']})\n"
   ]
  },
  {
   "cell_type": "code",
   "execution_count": 190,
   "id": "fb321734",
   "metadata": {},
   "outputs": [
    {
     "data": {
      "text/html": [
       "<div>\n",
       "<style scoped>\n",
       "    .dataframe tbody tr th:only-of-type {\n",
       "        vertical-align: middle;\n",
       "    }\n",
       "\n",
       "    .dataframe tbody tr th {\n",
       "        vertical-align: top;\n",
       "    }\n",
       "\n",
       "    .dataframe thead tr th {\n",
       "        text-align: left;\n",
       "    }\n",
       "\n",
       "    .dataframe thead tr:last-of-type th {\n",
       "        text-align: right;\n",
       "    }\n",
       "</style>\n",
       "<table border=\"1\" class=\"dataframe\">\n",
       "  <thead>\n",
       "    <tr>\n",
       "      <th></th>\n",
       "      <th colspan=\"3\" halign=\"left\">add_to_cart_order</th>\n",
       "    </tr>\n",
       "    <tr>\n",
       "      <th></th>\n",
       "      <th>mean</th>\n",
       "      <th>min</th>\n",
       "      <th>max</th>\n",
       "    </tr>\n",
       "    <tr>\n",
       "      <th>age_group</th>\n",
       "      <th></th>\n",
       "      <th></th>\n",
       "      <th></th>\n",
       "    </tr>\n",
       "  </thead>\n",
       "  <tbody>\n",
       "    <tr>\n",
       "      <th>Adults</th>\n",
       "      <td>8.386784</td>\n",
       "      <td>1.0</td>\n",
       "      <td>145.0</td>\n",
       "    </tr>\n",
       "    <tr>\n",
       "      <th>Seniors</th>\n",
       "      <td>8.324074</td>\n",
       "      <td>1.0</td>\n",
       "      <td>99.0</td>\n",
       "    </tr>\n",
       "    <tr>\n",
       "      <th>Youth</th>\n",
       "      <td>8.352326</td>\n",
       "      <td>1.0</td>\n",
       "      <td>109.0</td>\n",
       "    </tr>\n",
       "  </tbody>\n",
       "</table>\n",
       "</div>"
      ],
      "text/plain": [
       "          add_to_cart_order            \n",
       "                       mean  min    max\n",
       "age_group                              \n",
       "Adults             8.386784  1.0  145.0\n",
       "Seniors            8.324074  1.0   99.0\n",
       "Youth              8.352326  1.0  109.0"
      ]
     },
     "execution_count": 190,
     "metadata": {},
     "output_type": "execute_result"
    }
   ],
   "source": [
    "# Analyzing orders frequency by age group\n",
    "df_customers.groupby('age_group').agg({'add_to_cart_order': ['mean', 'min', 'max']})"
   ]
  },
  {
   "cell_type": "code",
   "execution_count": 110,
   "id": "d8114e62",
   "metadata": {},
   "outputs": [
    {
     "data": {
      "text/html": [
       "<div>\n",
       "<style scoped>\n",
       "    .dataframe tbody tr th:only-of-type {\n",
       "        vertical-align: middle;\n",
       "    }\n",
       "\n",
       "    .dataframe tbody tr th {\n",
       "        vertical-align: top;\n",
       "    }\n",
       "\n",
       "    .dataframe thead tr th {\n",
       "        text-align: left;\n",
       "    }\n",
       "\n",
       "    .dataframe thead tr:last-of-type th {\n",
       "        text-align: right;\n",
       "    }\n",
       "</style>\n",
       "<table border=\"1\" class=\"dataframe\">\n",
       "  <thead>\n",
       "    <tr>\n",
       "      <th></th>\n",
       "      <th colspan=\"3\" halign=\"left\">prices</th>\n",
       "    </tr>\n",
       "    <tr>\n",
       "      <th></th>\n",
       "      <th>mean</th>\n",
       "      <th>min</th>\n",
       "      <th>max</th>\n",
       "    </tr>\n",
       "    <tr>\n",
       "      <th>fam_status</th>\n",
       "      <th></th>\n",
       "      <th></th>\n",
       "      <th></th>\n",
       "    </tr>\n",
       "  </thead>\n",
       "  <tbody>\n",
       "    <tr>\n",
       "      <th>divorced/widowed</th>\n",
       "      <td>11.586535</td>\n",
       "      <td>1.0</td>\n",
       "      <td>99999.0</td>\n",
       "    </tr>\n",
       "    <tr>\n",
       "      <th>living with parents and siblings</th>\n",
       "      <td>11.021116</td>\n",
       "      <td>1.0</td>\n",
       "      <td>99999.0</td>\n",
       "    </tr>\n",
       "    <tr>\n",
       "      <th>married</th>\n",
       "      <td>11.834829</td>\n",
       "      <td>1.0</td>\n",
       "      <td>99999.0</td>\n",
       "    </tr>\n",
       "    <tr>\n",
       "      <th>single</th>\n",
       "      <td>12.405856</td>\n",
       "      <td>1.0</td>\n",
       "      <td>99999.0</td>\n",
       "    </tr>\n",
       "  </tbody>\n",
       "</table>\n",
       "</div>"
      ],
      "text/plain": [
       "                                     prices              \n",
       "                                       mean  min      max\n",
       "fam_status                                               \n",
       "divorced/widowed                  11.586535  1.0  99999.0\n",
       "living with parents and siblings  11.021116  1.0  99999.0\n",
       "married                           11.834829  1.0  99999.0\n",
       "single                            12.405856  1.0  99999.0"
      ]
     },
     "execution_count": 110,
     "metadata": {},
     "output_type": "execute_result"
    }
   ],
   "source": [
    "#Analyzing orders frequency by fam status \n",
    "df_customers.groupby('fam_status').agg({'prices': ['mean', 'min', 'max']})"
   ]
  },
  {
   "cell_type": "code",
   "execution_count": 78,
   "id": "8556d2f1",
   "metadata": {},
   "outputs": [
    {
     "data": {
      "text/html": [
       "<div>\n",
       "<style scoped>\n",
       "    .dataframe tbody tr th:only-of-type {\n",
       "        vertical-align: middle;\n",
       "    }\n",
       "\n",
       "    .dataframe tbody tr th {\n",
       "        vertical-align: top;\n",
       "    }\n",
       "\n",
       "    .dataframe thead tr th {\n",
       "        text-align: left;\n",
       "    }\n",
       "\n",
       "    .dataframe thead tr:last-of-type th {\n",
       "        text-align: right;\n",
       "    }\n",
       "</style>\n",
       "<table border=\"1\" class=\"dataframe\">\n",
       "  <thead>\n",
       "    <tr>\n",
       "      <th></th>\n",
       "      <th colspan=\"3\" halign=\"left\">days_since_prior_order</th>\n",
       "    </tr>\n",
       "    <tr>\n",
       "      <th></th>\n",
       "      <th>mean</th>\n",
       "      <th>min</th>\n",
       "      <th>max</th>\n",
       "    </tr>\n",
       "    <tr>\n",
       "      <th>loyalty_flag</th>\n",
       "      <th></th>\n",
       "      <th></th>\n",
       "      <th></th>\n",
       "    </tr>\n",
       "  </thead>\n",
       "  <tbody>\n",
       "    <tr>\n",
       "      <th>Loyal customer</th>\n",
       "      <td>6.026656</td>\n",
       "      <td>0.0</td>\n",
       "      <td>30.0</td>\n",
       "    </tr>\n",
       "    <tr>\n",
       "      <th>New customer</th>\n",
       "      <td>17.598691</td>\n",
       "      <td>0.0</td>\n",
       "      <td>30.0</td>\n",
       "    </tr>\n",
       "    <tr>\n",
       "      <th>Regular customer</th>\n",
       "      <td>12.155135</td>\n",
       "      <td>0.0</td>\n",
       "      <td>30.0</td>\n",
       "    </tr>\n",
       "  </tbody>\n",
       "</table>\n",
       "</div>"
      ],
      "text/plain": [
       "                 days_since_prior_order           \n",
       "                                   mean  min   max\n",
       "loyalty_flag                                      \n",
       "Loyal customer                 6.026656  0.0  30.0\n",
       "New customer                  17.598691  0.0  30.0\n",
       "Regular customer              12.155135  0.0  30.0"
      ]
     },
     "execution_count": 78,
     "metadata": {},
     "output_type": "execute_result"
    }
   ],
   "source": [
    "#Analyzing orders frequency by loyalty group\n",
    "df_customers.groupby('loyalty_flag').agg({'days_since_prior_order': ['mean', 'min', 'max']})"
   ]
  },
  {
   "cell_type": "code",
   "execution_count": 185,
   "id": "9de0e30f",
   "metadata": {},
   "outputs": [
    {
     "data": {
      "text/html": [
       "<div>\n",
       "<style scoped>\n",
       "    .dataframe tbody tr th:only-of-type {\n",
       "        vertical-align: middle;\n",
       "    }\n",
       "\n",
       "    .dataframe tbody tr th {\n",
       "        vertical-align: top;\n",
       "    }\n",
       "\n",
       "    .dataframe thead tr th {\n",
       "        text-align: left;\n",
       "    }\n",
       "\n",
       "    .dataframe thead tr:last-of-type th {\n",
       "        text-align: right;\n",
       "    }\n",
       "</style>\n",
       "<table border=\"1\" class=\"dataframe\">\n",
       "  <thead>\n",
       "    <tr>\n",
       "      <th></th>\n",
       "      <th colspan=\"3\" halign=\"left\">income</th>\n",
       "    </tr>\n",
       "    <tr>\n",
       "      <th></th>\n",
       "      <th>mean</th>\n",
       "      <th>min</th>\n",
       "      <th>max</th>\n",
       "    </tr>\n",
       "    <tr>\n",
       "      <th>spender_criteria</th>\n",
       "      <th></th>\n",
       "      <th></th>\n",
       "      <th></th>\n",
       "    </tr>\n",
       "  </thead>\n",
       "  <tbody>\n",
       "    <tr>\n",
       "      <th>High spender</th>\n",
       "      <td>99735.043661</td>\n",
       "      <td>25911.0</td>\n",
       "      <td>593901.0</td>\n",
       "    </tr>\n",
       "    <tr>\n",
       "      <th>Low spender</th>\n",
       "      <td>46335.262392</td>\n",
       "      <td>25903.0</td>\n",
       "      <td>165800.0</td>\n",
       "    </tr>\n",
       "  </tbody>\n",
       "</table>\n",
       "</div>"
      ],
      "text/plain": [
       "                        income                   \n",
       "                          mean      min       max\n",
       "spender_criteria                                 \n",
       "High spender      99735.043661  25911.0  593901.0\n",
       "Low spender       46335.262392  25903.0  165800.0"
      ]
     },
     "execution_count": 185,
     "metadata": {},
     "output_type": "execute_result"
    }
   ],
   "source": [
    "# Analyzing income by low and high spenders \n",
    "df_customers.groupby('spender_criteria').agg({'income':['mean', 'min', 'max']})"
   ]
  },
  {
   "cell_type": "code",
   "execution_count": 188,
   "id": "21bad81f",
   "metadata": {},
   "outputs": [
    {
     "data": {
      "text/html": [
       "<div>\n",
       "<style scoped>\n",
       "    .dataframe tbody tr th:only-of-type {\n",
       "        vertical-align: middle;\n",
       "    }\n",
       "\n",
       "    .dataframe tbody tr th {\n",
       "        vertical-align: top;\n",
       "    }\n",
       "\n",
       "    .dataframe thead tr th {\n",
       "        text-align: left;\n",
       "    }\n",
       "\n",
       "    .dataframe thead tr:last-of-type th {\n",
       "        text-align: right;\n",
       "    }\n",
       "</style>\n",
       "<table border=\"1\" class=\"dataframe\">\n",
       "  <thead>\n",
       "    <tr>\n",
       "      <th></th>\n",
       "      <th colspan=\"3\" halign=\"left\">prices</th>\n",
       "    </tr>\n",
       "    <tr>\n",
       "      <th></th>\n",
       "      <th>mean</th>\n",
       "      <th>min</th>\n",
       "      <th>max</th>\n",
       "    </tr>\n",
       "    <tr>\n",
       "      <th>spender_criteria</th>\n",
       "      <th></th>\n",
       "      <th></th>\n",
       "      <th></th>\n",
       "    </tr>\n",
       "  </thead>\n",
       "  <tbody>\n",
       "    <tr>\n",
       "      <th>High spender</th>\n",
       "      <td>11.938510</td>\n",
       "      <td>1.0</td>\n",
       "      <td>99999.0</td>\n",
       "    </tr>\n",
       "    <tr>\n",
       "      <th>Low spender</th>\n",
       "      <td>4.864435</td>\n",
       "      <td>1.0</td>\n",
       "      <td>9.9</td>\n",
       "    </tr>\n",
       "  </tbody>\n",
       "</table>\n",
       "</div>"
      ],
      "text/plain": [
       "                     prices              \n",
       "                       mean  min      max\n",
       "spender_criteria                         \n",
       "High spender      11.938510  1.0  99999.0\n",
       "Low spender        4.864435  1.0      9.9"
      ]
     },
     "execution_count": 188,
     "metadata": {},
     "output_type": "execute_result"
    }
   ],
   "source": [
    "# Analyzing low and high spenders by prices\n",
    "df_customers.groupby('spender_criteria').agg({'prices':['mean', 'min', 'max']})"
   ]
  },
  {
   "cell_type": "code",
   "execution_count": 189,
   "id": "e36ee179",
   "metadata": {},
   "outputs": [
    {
     "data": {
      "text/html": [
       "<div>\n",
       "<style scoped>\n",
       "    .dataframe tbody tr th:only-of-type {\n",
       "        vertical-align: middle;\n",
       "    }\n",
       "\n",
       "    .dataframe tbody tr th {\n",
       "        vertical-align: top;\n",
       "    }\n",
       "\n",
       "    .dataframe thead tr th {\n",
       "        text-align: left;\n",
       "    }\n",
       "\n",
       "    .dataframe thead tr:last-of-type th {\n",
       "        text-align: right;\n",
       "    }\n",
       "</style>\n",
       "<table border=\"1\" class=\"dataframe\">\n",
       "  <thead>\n",
       "    <tr>\n",
       "      <th></th>\n",
       "      <th colspan=\"3\" halign=\"left\">prices</th>\n",
       "    </tr>\n",
       "    <tr>\n",
       "      <th></th>\n",
       "      <th>mean</th>\n",
       "      <th>min</th>\n",
       "      <th>max</th>\n",
       "    </tr>\n",
       "    <tr>\n",
       "      <th>time_of_week</th>\n",
       "      <th></th>\n",
       "      <th></th>\n",
       "      <th></th>\n",
       "    </tr>\n",
       "  </thead>\n",
       "  <tbody>\n",
       "    <tr>\n",
       "      <th>Beginning of the_week</th>\n",
       "      <td>12.218629</td>\n",
       "      <td>1.0</td>\n",
       "      <td>99999.0</td>\n",
       "    </tr>\n",
       "    <tr>\n",
       "      <th>End of the week</th>\n",
       "      <td>12.045015</td>\n",
       "      <td>1.0</td>\n",
       "      <td>99999.0</td>\n",
       "    </tr>\n",
       "    <tr>\n",
       "      <th>Middle of the week</th>\n",
       "      <td>12.088497</td>\n",
       "      <td>1.0</td>\n",
       "      <td>99999.0</td>\n",
       "    </tr>\n",
       "  </tbody>\n",
       "</table>\n",
       "</div>"
      ],
      "text/plain": [
       "                          prices              \n",
       "                            mean  min      max\n",
       "time_of_week                                  \n",
       "Beginning of the_week  12.218629  1.0  99999.0\n",
       "End of the week        12.045015  1.0  99999.0\n",
       "Middle of the week     12.088497  1.0  99999.0"
      ]
     },
     "execution_count": 189,
     "metadata": {},
     "output_type": "execute_result"
    }
   ],
   "source": [
    "# Analyzing money spent by day of the week\n",
    "df_customers.groupby('time_of_week').agg({'prices': ['mean', 'min', 'max']})"
   ]
  },
  {
   "cell_type": "code",
   "execution_count": 119,
   "id": "a5a3e3e7",
   "metadata": {},
   "outputs": [
    {
     "data": {
      "text/html": [
       "<div>\n",
       "<style scoped>\n",
       "    .dataframe tbody tr th:only-of-type {\n",
       "        vertical-align: middle;\n",
       "    }\n",
       "\n",
       "    .dataframe tbody tr th {\n",
       "        vertical-align: top;\n",
       "    }\n",
       "\n",
       "    .dataframe thead tr th {\n",
       "        text-align: left;\n",
       "    }\n",
       "\n",
       "    .dataframe thead tr:last-of-type th {\n",
       "        text-align: right;\n",
       "    }\n",
       "</style>\n",
       "<table border=\"1\" class=\"dataframe\">\n",
       "  <thead>\n",
       "    <tr>\n",
       "      <th></th>\n",
       "      <th colspan=\"3\" halign=\"left\">prices</th>\n",
       "    </tr>\n",
       "    <tr>\n",
       "      <th></th>\n",
       "      <th>mean</th>\n",
       "      <th>min</th>\n",
       "      <th>max</th>\n",
       "    </tr>\n",
       "    <tr>\n",
       "      <th>parents</th>\n",
       "      <th></th>\n",
       "      <th></th>\n",
       "      <th></th>\n",
       "    </tr>\n",
       "  </thead>\n",
       "  <tbody>\n",
       "    <tr>\n",
       "      <th>No</th>\n",
       "      <td>11.991265</td>\n",
       "      <td>1.0</td>\n",
       "      <td>99999.0</td>\n",
       "    </tr>\n",
       "    <tr>\n",
       "      <th>Yes</th>\n",
       "      <td>7.634399</td>\n",
       "      <td>1.0</td>\n",
       "      <td>15.0</td>\n",
       "    </tr>\n",
       "  </tbody>\n",
       "</table>\n",
       "</div>"
      ],
      "text/plain": [
       "            prices              \n",
       "              mean  min      max\n",
       "parents                         \n",
       "No       11.991265  1.0  99999.0\n",
       "Yes       7.634399  1.0     15.0"
      ]
     },
     "execution_count": 119,
     "metadata": {},
     "output_type": "execute_result"
    }
   ],
   "source": [
    "#Analzing money spent by customer with babies \n",
    "df_customers.groupby('parents').agg({'prices': ['mean', 'min', 'max']})"
   ]
  },
  {
   "cell_type": "code",
   "execution_count": 120,
   "id": "9ecc88ac",
   "metadata": {},
   "outputs": [
    {
     "data": {
      "text/html": [
       "<div>\n",
       "<style scoped>\n",
       "    .dataframe tbody tr th:only-of-type {\n",
       "        vertical-align: middle;\n",
       "    }\n",
       "\n",
       "    .dataframe tbody tr th {\n",
       "        vertical-align: top;\n",
       "    }\n",
       "\n",
       "    .dataframe thead tr th {\n",
       "        text-align: left;\n",
       "    }\n",
       "\n",
       "    .dataframe thead tr:last-of-type th {\n",
       "        text-align: right;\n",
       "    }\n",
       "</style>\n",
       "<table border=\"1\" class=\"dataframe\">\n",
       "  <thead>\n",
       "    <tr>\n",
       "      <th></th>\n",
       "      <th colspan=\"3\" halign=\"left\">prices</th>\n",
       "    </tr>\n",
       "    <tr>\n",
       "      <th></th>\n",
       "      <th>mean</th>\n",
       "      <th>min</th>\n",
       "      <th>max</th>\n",
       "    </tr>\n",
       "    <tr>\n",
       "      <th>alcohol_intake</th>\n",
       "      <th></th>\n",
       "      <th></th>\n",
       "      <th></th>\n",
       "    </tr>\n",
       "  </thead>\n",
       "  <tbody>\n",
       "    <tr>\n",
       "      <th>No</th>\n",
       "      <td>11.951273</td>\n",
       "      <td>1.0</td>\n",
       "      <td>99999.0</td>\n",
       "    </tr>\n",
       "    <tr>\n",
       "      <th>Yes</th>\n",
       "      <td>8.150699</td>\n",
       "      <td>1.0</td>\n",
       "      <td>15.0</td>\n",
       "    </tr>\n",
       "  </tbody>\n",
       "</table>\n",
       "</div>"
      ],
      "text/plain": [
       "                   prices              \n",
       "                     mean  min      max\n",
       "alcohol_intake                         \n",
       "No              11.951273  1.0  99999.0\n",
       "Yes              8.150699  1.0     15.0"
      ]
     },
     "execution_count": 120,
     "metadata": {},
     "output_type": "execute_result"
    }
   ],
   "source": [
    "#Analyzing money spent by customers that drink alcohol \n",
    "df_customers.groupby('alcohol_intake').agg({'prices': ['mean', 'min', 'max']})"
   ]
  },
  {
   "cell_type": "markdown",
   "id": "608288e0",
   "metadata": {},
   "source": [
    "### 8. Compare your customer profiles with regions and departments."
   ]
  },
  {
   "cell_type": "code",
   "execution_count": 106,
   "id": "8e79332f",
   "metadata": {},
   "outputs": [
    {
     "data": {
      "text/html": [
       "<div>\n",
       "<style scoped>\n",
       "    .dataframe tbody tr th:only-of-type {\n",
       "        vertical-align: middle;\n",
       "    }\n",
       "\n",
       "    .dataframe tbody tr th {\n",
       "        vertical-align: top;\n",
       "    }\n",
       "\n",
       "    .dataframe thead th {\n",
       "        text-align: right;\n",
       "    }\n",
       "</style>\n",
       "<table border=\"1\" class=\"dataframe\">\n",
       "  <thead>\n",
       "    <tr style=\"text-align: right;\">\n",
       "      <th>income_category</th>\n",
       "      <th>High income</th>\n",
       "      <th>Low income</th>\n",
       "      <th>Middle income</th>\n",
       "    </tr>\n",
       "    <tr>\n",
       "      <th>region</th>\n",
       "      <th></th>\n",
       "      <th></th>\n",
       "      <th></th>\n",
       "    </tr>\n",
       "  </thead>\n",
       "  <tbody>\n",
       "    <tr>\n",
       "      <th>Midwest</th>\n",
       "      <td>871060</td>\n",
       "      <td>2394249</td>\n",
       "      <td>3594546</td>\n",
       "    </tr>\n",
       "    <tr>\n",
       "      <th>Northeast</th>\n",
       "      <td>645072</td>\n",
       "      <td>1805853</td>\n",
       "      <td>2727119</td>\n",
       "    </tr>\n",
       "    <tr>\n",
       "      <th>South</th>\n",
       "      <td>1212508</td>\n",
       "      <td>3496154</td>\n",
       "      <td>5038268</td>\n",
       "    </tr>\n",
       "    <tr>\n",
       "      <th>West</th>\n",
       "      <td>945316</td>\n",
       "      <td>2683170</td>\n",
       "      <td>3857623</td>\n",
       "    </tr>\n",
       "  </tbody>\n",
       "</table>\n",
       "</div>"
      ],
      "text/plain": [
       "income_category  High income  Low income  Middle income\n",
       "region                                                 \n",
       "Midwest               871060     2394249        3594546\n",
       "Northeast             645072     1805853        2727119\n",
       "South                1212508     3496154        5038268\n",
       "West                  945316     2683170        3857623"
      ]
     },
     "execution_count": 106,
     "metadata": {},
     "output_type": "execute_result"
    }
   ],
   "source": [
    "#Analyzing income category by region \n",
    "crosstab_income_cat_regions = pd.crosstab(df_customers['region'], df_customers ['income_category'], dropna = False)\n",
    "crosstab_income_cat_regions"
   ]
  },
  {
   "cell_type": "code",
   "execution_count": 107,
   "id": "510495a6",
   "metadata": {},
   "outputs": [
    {
     "data": {
      "text/plain": [
       "Text(0.5, 0, 'Region')"
      ]
     },
     "execution_count": 107,
     "metadata": {},
     "output_type": "execute_result"
    },
    {
     "data": {
      "image/png": "[encoded data removed]",
      "text/plain": [
       "<Figure size 640x480 with 1 Axes>"
      ]
     },
     "metadata": {},
     "output_type": "display_data"
    }
   ],
   "source": [
    "# Visualization income category by region \n",
    "crosstab_income_cat_regions_bar = crosstab_income_cat_regions.plot(kind = 'bar', color = ['darkblue', 'skyblue', 'steelblue'])\n",
    "crosstab_income_cat_regions_bar.legend(title = 'Income Category')\n",
    "plt.title('Income category by region', fontsize = '17')\n",
    "plt.xlabel('Region')"
   ]
  },
  {
   "cell_type": "code",
   "execution_count": 80,
   "id": "333adabf",
   "metadata": {},
   "outputs": [
    {
     "data": {
      "text/plain": [
       "Mid-range product     20891771\n",
       "Low-range product      9674840\n",
       "High-range product      397953\n",
       "Name: price_range_loc, dtype: int64"
      ]
     },
     "execution_count": 80,
     "metadata": {},
     "output_type": "execute_result"
    }
   ],
   "source": [
    "#Analyzing products by price range \n",
    "df_customers.loc[df_customers['prices'] > 15, 'price_range_loc'] = 'High-range product'\n",
    "df_customers.loc[(df_customers['prices'] <= 15) & (df_customers['prices'] > 5), 'price_range_loc'] = 'Mid-range product' \n",
    "df_customers.loc[df_customers['prices'] <= 5, 'price_range_loc'] = 'Low-range product'\n",
    "df_customers['price_range_loc'].value_counts(dropna = False)"
   ]
  },
  {
   "cell_type": "code",
   "execution_count": 201,
   "id": "3d216269",
   "metadata": {},
   "outputs": [
    {
     "data": {
      "text/html": [
       "<div>\n",
       "<style scoped>\n",
       "    .dataframe tbody tr th:only-of-type {\n",
       "        vertical-align: middle;\n",
       "    }\n",
       "\n",
       "    .dataframe tbody tr th {\n",
       "        vertical-align: top;\n",
       "    }\n",
       "\n",
       "    .dataframe thead th {\n",
       "        text-align: right;\n",
       "    }\n",
       "</style>\n",
       "<table border=\"1\" class=\"dataframe\">\n",
       "  <thead>\n",
       "    <tr style=\"text-align: right;\">\n",
       "      <th>dependents</th>\n",
       "      <th>Large</th>\n",
       "      <th>Medium</th>\n",
       "      <th>No dependents</th>\n",
       "    </tr>\n",
       "    <tr>\n",
       "      <th>region</th>\n",
       "      <th></th>\n",
       "      <th></th>\n",
       "      <th></th>\n",
       "    </tr>\n",
       "  </thead>\n",
       "  <tbody>\n",
       "    <tr>\n",
       "      <th>Midwest</th>\n",
       "      <td>1680590</td>\n",
       "      <td>3452475</td>\n",
       "      <td>1726790</td>\n",
       "    </tr>\n",
       "    <tr>\n",
       "      <th>Northeast</th>\n",
       "      <td>1302945</td>\n",
       "      <td>2595141</td>\n",
       "      <td>1279958</td>\n",
       "    </tr>\n",
       "    <tr>\n",
       "      <th>South</th>\n",
       "      <td>2442649</td>\n",
       "      <td>4871158</td>\n",
       "      <td>2433123</td>\n",
       "    </tr>\n",
       "    <tr>\n",
       "      <th>West</th>\n",
       "      <td>1911911</td>\n",
       "      <td>3701549</td>\n",
       "      <td>1872649</td>\n",
       "    </tr>\n",
       "  </tbody>\n",
       "</table>\n",
       "</div>"
      ],
      "text/plain": [
       "dependents    Large   Medium  No dependents\n",
       "region                                     \n",
       "Midwest     1680590  3452475        1726790\n",
       "Northeast   1302945  2595141        1279958\n",
       "South       2442649  4871158        2433123\n",
       "West        1911911  3701549        1872649"
      ]
     },
     "execution_count": 201,
     "metadata": {},
     "output_type": "execute_result"
    }
   ],
   "source": [
    "#Analyzing number of dependents by region \n",
    "crosstab_dependents_region = pd.crosstab(df_customers['region'], df_customers['dependents'], dropna = False)\n",
    "crosstab_dependents_region"
   ]
  },
  {
   "cell_type": "code",
   "execution_count": 203,
   "id": "8c8ea1df",
   "metadata": {},
   "outputs": [
    {
     "data": {
      "text/html": [
       "<div>\n",
       "<style scoped>\n",
       "    .dataframe tbody tr th:only-of-type {\n",
       "        vertical-align: middle;\n",
       "    }\n",
       "\n",
       "    .dataframe tbody tr th {\n",
       "        vertical-align: top;\n",
       "    }\n",
       "\n",
       "    .dataframe thead th {\n",
       "        text-align: right;\n",
       "    }\n",
       "</style>\n",
       "<table border=\"1\" class=\"dataframe\">\n",
       "  <thead>\n",
       "    <tr style=\"text-align: right;\">\n",
       "      <th>spender_criteria</th>\n",
       "      <th>High spender</th>\n",
       "      <th>Low spender</th>\n",
       "    </tr>\n",
       "    <tr>\n",
       "      <th>region</th>\n",
       "      <th></th>\n",
       "      <th></th>\n",
       "    </tr>\n",
       "  </thead>\n",
       "  <tbody>\n",
       "    <tr>\n",
       "      <th>Midwest</th>\n",
       "      <td>6854600</td>\n",
       "      <td>5255</td>\n",
       "    </tr>\n",
       "    <tr>\n",
       "      <th>Northeast</th>\n",
       "      <td>5174373</td>\n",
       "      <td>3671</td>\n",
       "    </tr>\n",
       "    <tr>\n",
       "      <th>South</th>\n",
       "      <td>9740492</td>\n",
       "      <td>6438</td>\n",
       "    </tr>\n",
       "    <tr>\n",
       "      <th>West</th>\n",
       "      <td>7480573</td>\n",
       "      <td>5536</td>\n",
       "    </tr>\n",
       "  </tbody>\n",
       "</table>\n",
       "</div>"
      ],
      "text/plain": [
       "spender_criteria  High spender  Low spender\n",
       "region                                     \n",
       "Midwest                6854600         5255\n",
       "Northeast              5174373         3671\n",
       "South                  9740492         6438\n",
       "West                   7480573         5536"
      ]
     },
     "execution_count": 203,
     "metadata": {},
     "output_type": "execute_result"
    }
   ],
   "source": [
    "# Analyzing low or high spender by region \n",
    "crosstab_spender_region = pd.crosstab(df_customers['region'], df_customers ['spender_criteria'], dropna = False)\n",
    "crosstab_spender_region"
   ]
  },
  {
   "cell_type": "code",
   "execution_count": 227,
   "id": "2176bbe0",
   "metadata": {},
   "outputs": [
    {
     "data": {
      "text/plain": [
       "Text(0.5, 0, 'Region')"
      ]
     },
     "execution_count": 227,
     "metadata": {},
     "output_type": "execute_result"
    },
    {
     "data": {
      "image/png": "[encoded data removed]",
      "text/plain": [
       "<Figure size 640x480 with 1 Axes>"
      ]
     },
     "metadata": {},
     "output_type": "display_data"
    }
   ],
   "source": [
    "# Visualization low and high spender by region \n",
    "crosstab_spender_region_bar = crosstab_spender_region.plot(kind = 'bar', color =['darkblue', 'skyblue'])\n",
    "plt.xlabel('Region')"
   ]
  },
  {
   "cell_type": "markdown",
   "id": "5842968b",
   "metadata": {},
   "source": [
    "According to the records the majority of the clients are considered as high spenders and it is the South region with the highest number of high spenders"
   ]
  },
  {
   "cell_type": "code",
   "execution_count": 98,
   "id": "7cdc5574",
   "metadata": {},
   "outputs": [
    {
     "data": {
      "text/html": [
       "<div>\n",
       "<style scoped>\n",
       "    .dataframe tbody tr th:only-of-type {\n",
       "        vertical-align: middle;\n",
       "    }\n",
       "\n",
       "    .dataframe tbody tr th {\n",
       "        vertical-align: top;\n",
       "    }\n",
       "\n",
       "    .dataframe thead th {\n",
       "        text-align: right;\n",
       "    }\n",
       "</style>\n",
       "<table border=\"1\" class=\"dataframe\">\n",
       "  <thead>\n",
       "    <tr style=\"text-align: right;\">\n",
       "      <th>region</th>\n",
       "      <th>Midwest</th>\n",
       "      <th>Northeast</th>\n",
       "      <th>South</th>\n",
       "      <th>West</th>\n",
       "    </tr>\n",
       "    <tr>\n",
       "      <th>department</th>\n",
       "      <th></th>\n",
       "      <th></th>\n",
       "      <th></th>\n",
       "      <th></th>\n",
       "    </tr>\n",
       "  </thead>\n",
       "  <tbody>\n",
       "    <tr>\n",
       "      <th>alcohol</th>\n",
       "      <td>32809</td>\n",
       "      <td>23805</td>\n",
       "      <td>46367</td>\n",
       "      <td>34961</td>\n",
       "    </tr>\n",
       "    <tr>\n",
       "      <th>babies</th>\n",
       "      <td>90056</td>\n",
       "      <td>69339</td>\n",
       "      <td>131171</td>\n",
       "      <td>97173</td>\n",
       "    </tr>\n",
       "    <tr>\n",
       "      <th>bakery</th>\n",
       "      <td>247653</td>\n",
       "      <td>188898</td>\n",
       "      <td>350623</td>\n",
       "      <td>272652</td>\n",
       "    </tr>\n",
       "    <tr>\n",
       "      <th>beverages</th>\n",
       "      <td>565552</td>\n",
       "      <td>437983</td>\n",
       "      <td>811743</td>\n",
       "      <td>615379</td>\n",
       "    </tr>\n",
       "    <tr>\n",
       "      <th>breakfast</th>\n",
       "      <td>147529</td>\n",
       "      <td>111207</td>\n",
       "      <td>209970</td>\n",
       "      <td>164049</td>\n",
       "    </tr>\n",
       "    <tr>\n",
       "      <th>bulk</th>\n",
       "      <td>7491</td>\n",
       "      <td>5252</td>\n",
       "      <td>10510</td>\n",
       "      <td>8307</td>\n",
       "    </tr>\n",
       "    <tr>\n",
       "      <th>canned goods</th>\n",
       "      <td>224414</td>\n",
       "      <td>167994</td>\n",
       "      <td>319004</td>\n",
       "      <td>245420</td>\n",
       "    </tr>\n",
       "    <tr>\n",
       "      <th>dairy eggs</th>\n",
       "      <td>1144827</td>\n",
       "      <td>863968</td>\n",
       "      <td>1628966</td>\n",
       "      <td>1254379</td>\n",
       "    </tr>\n",
       "    <tr>\n",
       "      <th>deli</th>\n",
       "      <td>221848</td>\n",
       "      <td>168674</td>\n",
       "      <td>315367</td>\n",
       "      <td>242910</td>\n",
       "    </tr>\n",
       "    <tr>\n",
       "      <th>dry goods pasta</th>\n",
       "      <td>182964</td>\n",
       "      <td>136568</td>\n",
       "      <td>257726</td>\n",
       "      <td>200546</td>\n",
       "    </tr>\n",
       "    <tr>\n",
       "      <th>frozen</th>\n",
       "      <td>469616</td>\n",
       "      <td>350543</td>\n",
       "      <td>672279</td>\n",
       "      <td>513987</td>\n",
       "    </tr>\n",
       "    <tr>\n",
       "      <th>household</th>\n",
       "      <td>157403</td>\n",
       "      <td>118017</td>\n",
       "      <td>217349</td>\n",
       "      <td>167273</td>\n",
       "    </tr>\n",
       "    <tr>\n",
       "      <th>international</th>\n",
       "      <td>57144</td>\n",
       "      <td>42383</td>\n",
       "      <td>80273</td>\n",
       "      <td>62299</td>\n",
       "    </tr>\n",
       "    <tr>\n",
       "      <th>meat seafood</th>\n",
       "      <td>149421</td>\n",
       "      <td>112806</td>\n",
       "      <td>212273</td>\n",
       "      <td>164568</td>\n",
       "    </tr>\n",
       "    <tr>\n",
       "      <th>missing</th>\n",
       "      <td>14626</td>\n",
       "      <td>10869</td>\n",
       "      <td>20732</td>\n",
       "      <td>15055</td>\n",
       "    </tr>\n",
       "    <tr>\n",
       "      <th>other</th>\n",
       "      <td>7410</td>\n",
       "      <td>5947</td>\n",
       "      <td>10822</td>\n",
       "      <td>8096</td>\n",
       "    </tr>\n",
       "    <tr>\n",
       "      <th>pantry</th>\n",
       "      <td>396595</td>\n",
       "      <td>296562</td>\n",
       "      <td>558999</td>\n",
       "      <td>431597</td>\n",
       "    </tr>\n",
       "    <tr>\n",
       "      <th>personal care</th>\n",
       "      <td>94352</td>\n",
       "      <td>70857</td>\n",
       "      <td>134284</td>\n",
       "      <td>100168</td>\n",
       "    </tr>\n",
       "    <tr>\n",
       "      <th>pets</th>\n",
       "      <td>20237</td>\n",
       "      <td>16585</td>\n",
       "      <td>28233</td>\n",
       "      <td>22798</td>\n",
       "    </tr>\n",
       "    <tr>\n",
       "      <th>produce</th>\n",
       "      <td>2018594</td>\n",
       "      <td>1512515</td>\n",
       "      <td>2863520</td>\n",
       "      <td>2191722</td>\n",
       "    </tr>\n",
       "    <tr>\n",
       "      <th>snacks</th>\n",
       "      <td>609314</td>\n",
       "      <td>467272</td>\n",
       "      <td>866719</td>\n",
       "      <td>672770</td>\n",
       "    </tr>\n",
       "  </tbody>\n",
       "</table>\n",
       "</div>"
      ],
      "text/plain": [
       "region           Midwest  Northeast    South     West\n",
       "department                                           \n",
       "alcohol            32809      23805    46367    34961\n",
       "babies             90056      69339   131171    97173\n",
       "bakery            247653     188898   350623   272652\n",
       "beverages         565552     437983   811743   615379\n",
       "breakfast         147529     111207   209970   164049\n",
       "bulk                7491       5252    10510     8307\n",
       "canned goods      224414     167994   319004   245420\n",
       "dairy eggs       1144827     863968  1628966  1254379\n",
       "deli              221848     168674   315367   242910\n",
       "dry goods pasta   182964     136568   257726   200546\n",
       "frozen            469616     350543   672279   513987\n",
       "household         157403     118017   217349   167273\n",
       "international      57144      42383    80273    62299\n",
       "meat seafood      149421     112806   212273   164568\n",
       "missing            14626      10869    20732    15055\n",
       "other               7410       5947    10822     8096\n",
       "pantry            396595     296562   558999   431597\n",
       "personal care      94352      70857   134284   100168\n",
       "pets               20237      16585    28233    22798\n",
       "produce          2018594    1512515  2863520  2191722\n",
       "snacks            609314     467272   866719   672770"
      ]
     },
     "execution_count": 98,
     "metadata": {},
     "output_type": "execute_result"
    }
   ],
   "source": [
    "#Analyzing department products by region \n",
    "crosstab_region_department = pd.crosstab(df_customers['department'], df_customers['region'], dropna = False)\n",
    "crosstab_region_department"
   ]
  },
  {
   "cell_type": "code",
   "execution_count": 103,
   "id": "de6f3038",
   "metadata": {},
   "outputs": [
    {
     "data": {
      "text/plain": [
       "Text(0.5, 1.0, 'Orders distribution grouped by region and department')"
      ]
     },
     "execution_count": 103,
     "metadata": {},
     "output_type": "execute_result"
    },
    {
     "data": {
      "image/png": "[encoded data removed]",
      "text/plain": [
       "<Figure size 640x480 with 1 Axes>"
      ]
     },
     "metadata": {},
     "output_type": "display_data"
    }
   ],
   "source": [
    "bar_ctab_region_depart = crosstab_region_department.plot(kind = 'bar', stacked = True,color = ['darkblue', 'steelblue', 'skyblue','blue'] )\n",
    "plt.xlabel('Department')\n",
    "plt.ylabel('Frequency in millions')\n",
    "plt.title('Orders distribution grouped by region and department')"
   ]
  },
  {
   "cell_type": "code",
   "execution_count": 84,
   "id": "2c28b2f3",
   "metadata": {},
   "outputs": [
    {
     "data": {
      "text/html": [
       "<div>\n",
       "<style scoped>\n",
       "    .dataframe tbody tr th:only-of-type {\n",
       "        vertical-align: middle;\n",
       "    }\n",
       "\n",
       "    .dataframe tbody tr th {\n",
       "        vertical-align: top;\n",
       "    }\n",
       "\n",
       "    .dataframe thead th {\n",
       "        text-align: right;\n",
       "    }\n",
       "</style>\n",
       "<table border=\"1\" class=\"dataframe\">\n",
       "  <thead>\n",
       "    <tr style=\"text-align: right;\">\n",
       "      <th>loyalty_flag</th>\n",
       "      <th>Loyal customer</th>\n",
       "      <th>New customer</th>\n",
       "      <th>Regular customer</th>\n",
       "    </tr>\n",
       "    <tr>\n",
       "      <th>department</th>\n",
       "      <th></th>\n",
       "      <th></th>\n",
       "      <th></th>\n",
       "    </tr>\n",
       "  </thead>\n",
       "  <tbody>\n",
       "    <tr>\n",
       "      <th>alcohol</th>\n",
       "      <td>38723</td>\n",
       "      <td>28629</td>\n",
       "      <td>77275</td>\n",
       "    </tr>\n",
       "    <tr>\n",
       "      <th>babies</th>\n",
       "      <td>167108</td>\n",
       "      <td>46708</td>\n",
       "      <td>196576</td>\n",
       "    </tr>\n",
       "    <tr>\n",
       "      <th>bakery</th>\n",
       "      <td>379873</td>\n",
       "      <td>172104</td>\n",
       "      <td>568851</td>\n",
       "    </tr>\n",
       "    <tr>\n",
       "      <th>beverages</th>\n",
       "      <td>855017</td>\n",
       "      <td>396649</td>\n",
       "      <td>1320235</td>\n",
       "    </tr>\n",
       "    <tr>\n",
       "      <th>breakfast</th>\n",
       "      <td>221577</td>\n",
       "      <td>106179</td>\n",
       "      <td>343094</td>\n",
       "    </tr>\n",
       "    <tr>\n",
       "      <th>bulk</th>\n",
       "      <td>13834</td>\n",
       "      <td>4149</td>\n",
       "      <td>15468</td>\n",
       "    </tr>\n",
       "    <tr>\n",
       "      <th>canned goods</th>\n",
       "      <td>294594</td>\n",
       "      <td>180196</td>\n",
       "      <td>537284</td>\n",
       "    </tr>\n",
       "    <tr>\n",
       "      <th>dairy eggs</th>\n",
       "      <td>1830707</td>\n",
       "      <td>750056</td>\n",
       "      <td>2596419</td>\n",
       "    </tr>\n",
       "    <tr>\n",
       "      <th>deli</th>\n",
       "      <td>324046</td>\n",
       "      <td>158335</td>\n",
       "      <td>521453</td>\n",
       "    </tr>\n",
       "    <tr>\n",
       "      <th>dry goods pasta</th>\n",
       "      <td>242580</td>\n",
       "      <td>144836</td>\n",
       "      <td>434720</td>\n",
       "    </tr>\n",
       "    <tr>\n",
       "      <th>frozen</th>\n",
       "      <td>609460</td>\n",
       "      <td>372271</td>\n",
       "      <td>1140000</td>\n",
       "    </tr>\n",
       "    <tr>\n",
       "      <th>household</th>\n",
       "      <td>196873</td>\n",
       "      <td>128117</td>\n",
       "      <td>374867</td>\n",
       "    </tr>\n",
       "    <tr>\n",
       "      <th>international</th>\n",
       "      <td>78394</td>\n",
       "      <td>43841</td>\n",
       "      <td>133756</td>\n",
       "    </tr>\n",
       "    <tr>\n",
       "      <th>meat seafood</th>\n",
       "      <td>202480</td>\n",
       "      <td>112464</td>\n",
       "      <td>359837</td>\n",
       "    </tr>\n",
       "    <tr>\n",
       "      <th>missing</th>\n",
       "      <td>18350</td>\n",
       "      <td>12713</td>\n",
       "      <td>33705</td>\n",
       "    </tr>\n",
       "    <tr>\n",
       "      <th>other</th>\n",
       "      <td>10715</td>\n",
       "      <td>5839</td>\n",
       "      <td>17857</td>\n",
       "    </tr>\n",
       "    <tr>\n",
       "      <th>pantry</th>\n",
       "      <td>560402</td>\n",
       "      <td>299576</td>\n",
       "      <td>922727</td>\n",
       "    </tr>\n",
       "    <tr>\n",
       "      <th>personal care</th>\n",
       "      <td>123365</td>\n",
       "      <td>75442</td>\n",
       "      <td>225499</td>\n",
       "    </tr>\n",
       "    <tr>\n",
       "      <th>pets</th>\n",
       "      <td>25469</td>\n",
       "      <td>15880</td>\n",
       "      <td>51711</td>\n",
       "    </tr>\n",
       "    <tr>\n",
       "      <th>produce</th>\n",
       "      <td>3147376</td>\n",
       "      <td>1336604</td>\n",
       "      <td>4595293</td>\n",
       "    </tr>\n",
       "    <tr>\n",
       "      <th>snacks</th>\n",
       "      <td>943150</td>\n",
       "      <td>413107</td>\n",
       "      <td>1410149</td>\n",
       "    </tr>\n",
       "  </tbody>\n",
       "</table>\n",
       "</div>"
      ],
      "text/plain": [
       "loyalty_flag     Loyal customer  New customer  Regular customer\n",
       "department                                                     \n",
       "alcohol                   38723         28629             77275\n",
       "babies                   167108         46708            196576\n",
       "bakery                   379873        172104            568851\n",
       "beverages                855017        396649           1320235\n",
       "breakfast                221577        106179            343094\n",
       "bulk                      13834          4149             15468\n",
       "canned goods             294594        180196            537284\n",
       "dairy eggs              1830707        750056           2596419\n",
       "deli                     324046        158335            521453\n",
       "dry goods pasta          242580        144836            434720\n",
       "frozen                   609460        372271           1140000\n",
       "household                196873        128117            374867\n",
       "international             78394         43841            133756\n",
       "meat seafood             202480        112464            359837\n",
       "missing                   18350         12713             33705\n",
       "other                     10715          5839             17857\n",
       "pantry                   560402        299576            922727\n",
       "personal care            123365         75442            225499\n",
       "pets                      25469         15880             51711\n",
       "produce                 3147376       1336604           4595293\n",
       "snacks                   943150        413107           1410149"
      ]
     },
     "execution_count": 84,
     "metadata": {},
     "output_type": "execute_result"
    }
   ],
   "source": [
    "# Analyzing departemt products by loyalty category\n",
    "crosstab_loyalty_department = pd.crosstab(df_customers['department'], df_customers ['loyalty_flag'], dropna = False)\n",
    "crosstab_loyalty_department "
   ]
  },
  {
   "cell_type": "code",
   "execution_count": 94,
   "id": "37aee809",
   "metadata": {},
   "outputs": [
    {
     "data": {
      "text/plain": [
       "<matplotlib.legend.Legend at 0x1e362c59880>"
      ]
     },
     "execution_count": 94,
     "metadata": {},
     "output_type": "execute_result"
    },
    {
     "data": {
      "image/png": "[encoded data removed]",
      "text/plain": [
       "<Figure size 640x480 with 1 Axes>"
      ]
     },
     "metadata": {},
     "output_type": "display_data"
    }
   ],
   "source": [
    "#Visualization of crosstab_loyalty_department \n",
    "\n",
    "bar_crosstab_loyalty_department = crosstab_loyalty_department.plot(kind = 'bar', stacked = True, color = ['darkblue', 'steelblue', 'skyblue'])\n",
    "plt.xlabel('Department')\n",
    "plt.ylabel('Frequency in millions')\n",
    "plt.title('Orders distribution by department and customer loyalty')\n",
    "plt.legend(title = 'Loyalty Category')"
   ]
  },
  {
   "cell_type": "code",
   "execution_count": 205,
   "id": "8371333b",
   "metadata": {},
   "outputs": [
    {
     "data": {
      "text/html": [
       "<div>\n",
       "<style scoped>\n",
       "    .dataframe tbody tr th:only-of-type {\n",
       "        vertical-align: middle;\n",
       "    }\n",
       "\n",
       "    .dataframe tbody tr th {\n",
       "        vertical-align: top;\n",
       "    }\n",
       "\n",
       "    .dataframe thead th {\n",
       "        text-align: right;\n",
       "    }\n",
       "</style>\n",
       "<table border=\"1\" class=\"dataframe\">\n",
       "  <thead>\n",
       "    <tr style=\"text-align: right;\">\n",
       "      <th>age_group</th>\n",
       "      <th>Adults</th>\n",
       "      <th>Seniors</th>\n",
       "      <th>Youth</th>\n",
       "    </tr>\n",
       "    <tr>\n",
       "      <th>region</th>\n",
       "      <th></th>\n",
       "      <th></th>\n",
       "      <th></th>\n",
       "    </tr>\n",
       "  </thead>\n",
       "  <tbody>\n",
       "    <tr>\n",
       "      <th>Midwest</th>\n",
       "      <td>4294534</td>\n",
       "      <td>1915910</td>\n",
       "      <td>649411</td>\n",
       "    </tr>\n",
       "    <tr>\n",
       "      <th>Northeast</th>\n",
       "      <td>3189032</td>\n",
       "      <td>1491486</td>\n",
       "      <td>497526</td>\n",
       "    </tr>\n",
       "    <tr>\n",
       "      <th>South</th>\n",
       "      <td>6093503</td>\n",
       "      <td>2706912</td>\n",
       "      <td>946515</td>\n",
       "    </tr>\n",
       "    <tr>\n",
       "      <th>West</th>\n",
       "      <td>4701397</td>\n",
       "      <td>2100983</td>\n",
       "      <td>683729</td>\n",
       "    </tr>\n",
       "  </tbody>\n",
       "</table>\n",
       "</div>"
      ],
      "text/plain": [
       "age_group   Adults  Seniors   Youth\n",
       "region                             \n",
       "Midwest    4294534  1915910  649411\n",
       "Northeast  3189032  1491486  497526\n",
       "South      6093503  2706912  946515\n",
       "West       4701397  2100983  683729"
      ]
     },
     "execution_count": 205,
     "metadata": {},
     "output_type": "execute_result"
    }
   ],
   "source": [
    "# Analyzing age groups by region \n",
    "crosstab_age_regions = pd.crosstab(df_customers['region'], df_customers ['age_group'], dropna = False)\n",
    "crosstab_age_regions"
   ]
  },
  {
   "cell_type": "code",
   "execution_count": 226,
   "id": "088696f3",
   "metadata": {},
   "outputs": [
    {
     "data": {
      "text/plain": [
       "Text(0.5, 0, 'Region')"
      ]
     },
     "execution_count": 226,
     "metadata": {},
     "output_type": "execute_result"
    },
    {
     "data": {
      "image/png": "[encoded data removed]",
      "text/plain": [
       "<Figure size 640x480 with 1 Axes>"
      ]
     },
     "metadata": {},
     "output_type": "display_data"
    }
   ],
   "source": [
    "# Age group by region chart \n",
    "crosstab_age_regions_groups = crosstab_age_regions.plot(kind = 'bar', color =['darkblue','steelblue', 'skyblue'])\n",
    "crosstab_age_regions_groups.legend(title = 'Age Group')\n",
    "plt.title ('Age group by region', fontsize = '17')\n",
    "plt.xlabel('Region')"
   ]
  },
  {
   "cell_type": "markdown",
   "id": "4e65b9e9",
   "metadata": {},
   "source": [
    "The age behaviour in each of the regions is very similar. In general the groups that are more common in getting items in the stores are Adults and the group age less common are young people. "
   ]
  },
  {
   "cell_type": "code",
   "execution_count": 229,
   "id": "5aa7aa28",
   "metadata": {},
   "outputs": [
    {
     "data": {
      "text/html": [
       "<div>\n",
       "<style scoped>\n",
       "    .dataframe tbody tr th:only-of-type {\n",
       "        vertical-align: middle;\n",
       "    }\n",
       "\n",
       "    .dataframe tbody tr th {\n",
       "        vertical-align: top;\n",
       "    }\n",
       "\n",
       "    .dataframe thead th {\n",
       "        text-align: right;\n",
       "    }\n",
       "</style>\n",
       "<table border=\"1\" class=\"dataframe\">\n",
       "  <thead>\n",
       "    <tr style=\"text-align: right;\">\n",
       "      <th>age_group</th>\n",
       "      <th>Adults</th>\n",
       "      <th>Seniors</th>\n",
       "      <th>Youth</th>\n",
       "    </tr>\n",
       "    <tr>\n",
       "      <th>department</th>\n",
       "      <th></th>\n",
       "      <th></th>\n",
       "      <th></th>\n",
       "    </tr>\n",
       "  </thead>\n",
       "  <tbody>\n",
       "    <tr>\n",
       "      <th>alcohol</th>\n",
       "      <td>86590</td>\n",
       "      <td>36492</td>\n",
       "      <td>14860</td>\n",
       "    </tr>\n",
       "    <tr>\n",
       "      <th>babies</th>\n",
       "      <td>244888</td>\n",
       "      <td>106629</td>\n",
       "      <td>36222</td>\n",
       "    </tr>\n",
       "    <tr>\n",
       "      <th>bakery</th>\n",
       "      <td>662790</td>\n",
       "      <td>296922</td>\n",
       "      <td>100114</td>\n",
       "    </tr>\n",
       "    <tr>\n",
       "      <th>beverages</th>\n",
       "      <td>1516632</td>\n",
       "      <td>686799</td>\n",
       "      <td>227226</td>\n",
       "    </tr>\n",
       "    <tr>\n",
       "      <th>breakfast</th>\n",
       "      <td>395531</td>\n",
       "      <td>175671</td>\n",
       "      <td>61553</td>\n",
       "    </tr>\n",
       "    <tr>\n",
       "      <th>bulk</th>\n",
       "      <td>19635</td>\n",
       "      <td>8819</td>\n",
       "      <td>3106</td>\n",
       "    </tr>\n",
       "    <tr>\n",
       "      <th>canned goods</th>\n",
       "      <td>599352</td>\n",
       "      <td>267346</td>\n",
       "      <td>90134</td>\n",
       "    </tr>\n",
       "    <tr>\n",
       "      <th>dairy eggs</th>\n",
       "      <td>3054116</td>\n",
       "      <td>1371849</td>\n",
       "      <td>466175</td>\n",
       "    </tr>\n",
       "    <tr>\n",
       "      <th>deli</th>\n",
       "      <td>592616</td>\n",
       "      <td>266712</td>\n",
       "      <td>89471</td>\n",
       "    </tr>\n",
       "    <tr>\n",
       "      <th>dry goods pasta</th>\n",
       "      <td>485885</td>\n",
       "      <td>217605</td>\n",
       "      <td>74314</td>\n",
       "    </tr>\n",
       "    <tr>\n",
       "      <th>frozen</th>\n",
       "      <td>1251673</td>\n",
       "      <td>564743</td>\n",
       "      <td>190009</td>\n",
       "    </tr>\n",
       "    <tr>\n",
       "      <th>household</th>\n",
       "      <td>410717</td>\n",
       "      <td>187072</td>\n",
       "      <td>62253</td>\n",
       "    </tr>\n",
       "    <tr>\n",
       "      <th>international</th>\n",
       "      <td>151365</td>\n",
       "      <td>67135</td>\n",
       "      <td>23599</td>\n",
       "    </tr>\n",
       "    <tr>\n",
       "      <th>meat seafood</th>\n",
       "      <td>396978</td>\n",
       "      <td>180817</td>\n",
       "      <td>61273</td>\n",
       "    </tr>\n",
       "    <tr>\n",
       "      <th>missing</th>\n",
       "      <td>38367</td>\n",
       "      <td>16862</td>\n",
       "      <td>6053</td>\n",
       "    </tr>\n",
       "    <tr>\n",
       "      <th>other</th>\n",
       "      <td>20151</td>\n",
       "      <td>8893</td>\n",
       "      <td>3231</td>\n",
       "    </tr>\n",
       "    <tr>\n",
       "      <th>pantry</th>\n",
       "      <td>1051429</td>\n",
       "      <td>473125</td>\n",
       "      <td>159199</td>\n",
       "    </tr>\n",
       "    <tr>\n",
       "      <th>personal care</th>\n",
       "      <td>251081</td>\n",
       "      <td>111037</td>\n",
       "      <td>37543</td>\n",
       "    </tr>\n",
       "    <tr>\n",
       "      <th>pets</th>\n",
       "      <td>54170</td>\n",
       "      <td>24725</td>\n",
       "      <td>8958</td>\n",
       "    </tr>\n",
       "    <tr>\n",
       "      <th>produce</th>\n",
       "      <td>5359337</td>\n",
       "      <td>2413003</td>\n",
       "      <td>814011</td>\n",
       "    </tr>\n",
       "    <tr>\n",
       "      <th>snacks</th>\n",
       "      <td>1635163</td>\n",
       "      <td>733035</td>\n",
       "      <td>247877</td>\n",
       "    </tr>\n",
       "  </tbody>\n",
       "</table>\n",
       "</div>"
      ],
      "text/plain": [
       "age_group         Adults  Seniors   Youth\n",
       "department                               \n",
       "alcohol            86590    36492   14860\n",
       "babies            244888   106629   36222\n",
       "bakery            662790   296922  100114\n",
       "beverages        1516632   686799  227226\n",
       "breakfast         395531   175671   61553\n",
       "bulk               19635     8819    3106\n",
       "canned goods      599352   267346   90134\n",
       "dairy eggs       3054116  1371849  466175\n",
       "deli              592616   266712   89471\n",
       "dry goods pasta   485885   217605   74314\n",
       "frozen           1251673   564743  190009\n",
       "household         410717   187072   62253\n",
       "international     151365    67135   23599\n",
       "meat seafood      396978   180817   61273\n",
       "missing            38367    16862    6053\n",
       "other              20151     8893    3231\n",
       "pantry           1051429   473125  159199\n",
       "personal care     251081   111037   37543\n",
       "pets               54170    24725    8958\n",
       "produce          5359337  2413003  814011\n",
       "snacks           1635163   733035  247877"
      ]
     },
     "execution_count": 229,
     "metadata": {},
     "output_type": "execute_result"
    }
   ],
   "source": [
    "#Analyzing age group by departments \n",
    "crosstab_age_departments = pd.crosstab(df_customers['department'], df_customers['age_group'], dropna = False)\n",
    "crosstab_age_departments"
   ]
  },
  {
   "cell_type": "code",
   "execution_count": 240,
   "id": "e946ab8a",
   "metadata": {},
   "outputs": [
    {
     "data": {
      "text/plain": [
       "Text(0, 0.5, 'Frequency in millions')"
      ]
     },
     "execution_count": 240,
     "metadata": {},
     "output_type": "execute_result"
    },
    {
     "data": {
      "image/png": "[encoded data removed]",
      "text/plain": [
       "<Figure size 640x480 with 1 Axes>"
      ]
     },
     "metadata": {},
     "output_type": "display_data"
    }
   ],
   "source": [
    "# Visualization of the age group in department \n",
    "crosstab_age_dept_bar = crosstab_age_departments.plot(kind = 'bar', stacked = True, color = ['darkblue', 'steelblue','skyblue' ])\n",
    "crosstab_age_dept_bar.legend (title = 'Age group')\n",
    "plt.title('Orders detail by department and Age group', fontsize = '16', pad = '30')\n",
    "plt.xlabel('Department')\n",
    "plt.ylabel('Frequency in millions')"
   ]
  },
  {
   "cell_type": "markdown",
   "id": "d36b3597",
   "metadata": {},
   "source": [
    "In this chart we can esily see as in the previous analysis that Adults are the main type of customers that go to the stores, and the majoroty gets produce products. In general, the bars can let us conclude that produce products are the most common ones. "
   ]
  },
  {
   "cell_type": "code",
   "execution_count": 251,
   "id": "0513b03e",
   "metadata": {},
   "outputs": [
    {
     "data": {
      "text/html": [
       "<div>\n",
       "<style scoped>\n",
       "    .dataframe tbody tr th:only-of-type {\n",
       "        vertical-align: middle;\n",
       "    }\n",
       "\n",
       "    .dataframe tbody tr th {\n",
       "        vertical-align: top;\n",
       "    }\n",
       "\n",
       "    .dataframe thead th {\n",
       "        text-align: right;\n",
       "    }\n",
       "</style>\n",
       "<table border=\"1\" class=\"dataframe\">\n",
       "  <thead>\n",
       "    <tr style=\"text-align: right;\">\n",
       "      <th>income_category</th>\n",
       "      <th>High income</th>\n",
       "      <th>Low income</th>\n",
       "      <th>Middle income</th>\n",
       "    </tr>\n",
       "    <tr>\n",
       "      <th>department</th>\n",
       "      <th></th>\n",
       "      <th></th>\n",
       "      <th></th>\n",
       "    </tr>\n",
       "  </thead>\n",
       "  <tbody>\n",
       "    <tr>\n",
       "      <th>alcohol</th>\n",
       "      <td>22568</td>\n",
       "      <td>47746</td>\n",
       "      <td>67628</td>\n",
       "    </tr>\n",
       "    <tr>\n",
       "      <th>babies</th>\n",
       "      <td>50028</td>\n",
       "      <td>122222</td>\n",
       "      <td>215489</td>\n",
       "    </tr>\n",
       "    <tr>\n",
       "      <th>bakery</th>\n",
       "      <td>139707</td>\n",
       "      <td>360394</td>\n",
       "      <td>559725</td>\n",
       "    </tr>\n",
       "    <tr>\n",
       "      <th>beverages</th>\n",
       "      <td>295786</td>\n",
       "      <td>940744</td>\n",
       "      <td>1194127</td>\n",
       "    </tr>\n",
       "    <tr>\n",
       "      <th>breakfast</th>\n",
       "      <td>78950</td>\n",
       "      <td>240483</td>\n",
       "      <td>313322</td>\n",
       "    </tr>\n",
       "    <tr>\n",
       "      <th>bulk</th>\n",
       "      <td>3439</td>\n",
       "      <td>12539</td>\n",
       "      <td>15582</td>\n",
       "    </tr>\n",
       "    <tr>\n",
       "      <th>canned goods</th>\n",
       "      <td>124468</td>\n",
       "      <td>313500</td>\n",
       "      <td>518864</td>\n",
       "    </tr>\n",
       "    <tr>\n",
       "      <th>dairy eggs</th>\n",
       "      <td>622829</td>\n",
       "      <td>1683451</td>\n",
       "      <td>2585860</td>\n",
       "    </tr>\n",
       "    <tr>\n",
       "      <th>deli</th>\n",
       "      <td>118698</td>\n",
       "      <td>334377</td>\n",
       "      <td>495724</td>\n",
       "    </tr>\n",
       "    <tr>\n",
       "      <th>dry goods pasta</th>\n",
       "      <td>100808</td>\n",
       "      <td>254895</td>\n",
       "      <td>422101</td>\n",
       "    </tr>\n",
       "    <tr>\n",
       "      <th>frozen</th>\n",
       "      <td>260914</td>\n",
       "      <td>694807</td>\n",
       "      <td>1050704</td>\n",
       "    </tr>\n",
       "    <tr>\n",
       "      <th>household</th>\n",
       "      <td>87571</td>\n",
       "      <td>238771</td>\n",
       "      <td>333700</td>\n",
       "    </tr>\n",
       "    <tr>\n",
       "      <th>international</th>\n",
       "      <td>30950</td>\n",
       "      <td>81292</td>\n",
       "      <td>129857</td>\n",
       "    </tr>\n",
       "    <tr>\n",
       "      <th>meat seafood</th>\n",
       "      <td>86360</td>\n",
       "      <td>192490</td>\n",
       "      <td>360218</td>\n",
       "    </tr>\n",
       "    <tr>\n",
       "      <th>missing</th>\n",
       "      <td>7786</td>\n",
       "      <td>21960</td>\n",
       "      <td>31536</td>\n",
       "    </tr>\n",
       "    <tr>\n",
       "      <th>other</th>\n",
       "      <td>4300</td>\n",
       "      <td>11429</td>\n",
       "      <td>16546</td>\n",
       "    </tr>\n",
       "    <tr>\n",
       "      <th>pantry</th>\n",
       "      <td>218627</td>\n",
       "      <td>572462</td>\n",
       "      <td>892664</td>\n",
       "    </tr>\n",
       "    <tr>\n",
       "      <th>personal care</th>\n",
       "      <td>50340</td>\n",
       "      <td>143765</td>\n",
       "      <td>205556</td>\n",
       "    </tr>\n",
       "    <tr>\n",
       "      <th>pets</th>\n",
       "      <td>12535</td>\n",
       "      <td>29027</td>\n",
       "      <td>46291</td>\n",
       "    </tr>\n",
       "    <tr>\n",
       "      <th>produce</th>\n",
       "      <td>1068900</td>\n",
       "      <td>2933125</td>\n",
       "      <td>4584326</td>\n",
       "    </tr>\n",
       "    <tr>\n",
       "      <th>snacks</th>\n",
       "      <td>288392</td>\n",
       "      <td>1149947</td>\n",
       "      <td>1177736</td>\n",
       "    </tr>\n",
       "  </tbody>\n",
       "</table>\n",
       "</div>"
      ],
      "text/plain": [
       "income_category  High income  Low income  Middle income\n",
       "department                                             \n",
       "alcohol                22568       47746          67628\n",
       "babies                 50028      122222         215489\n",
       "bakery                139707      360394         559725\n",
       "beverages             295786      940744        1194127\n",
       "breakfast              78950      240483         313322\n",
       "bulk                    3439       12539          15582\n",
       "canned goods          124468      313500         518864\n",
       "dairy eggs            622829     1683451        2585860\n",
       "deli                  118698      334377         495724\n",
       "dry goods pasta       100808      254895         422101\n",
       "frozen                260914      694807        1050704\n",
       "household              87571      238771         333700\n",
       "international          30950       81292         129857\n",
       "meat seafood           86360      192490         360218\n",
       "missing                 7786       21960          31536\n",
       "other                   4300       11429          16546\n",
       "pantry                218627      572462         892664\n",
       "personal care          50340      143765         205556\n",
       "pets                   12535       29027          46291\n",
       "produce              1068900     2933125        4584326\n",
       "snacks                288392     1149947        1177736"
      ]
     },
     "execution_count": 251,
     "metadata": {},
     "output_type": "execute_result"
    }
   ],
   "source": [
    "#Analyzing income category by department \n",
    "crosstab_income_depart = pd.crosstab(df_customers['department'], df_customers ['income_category'], dropna = False)\n",
    "crosstab_income_depart "
   ]
  },
  {
   "cell_type": "code",
   "execution_count": 258,
   "id": "92204dfc",
   "metadata": {},
   "outputs": [
    {
     "data": {
      "text/plain": [
       "Text(0.5, 0, 'Department')"
      ]
     },
     "execution_count": 258,
     "metadata": {},
     "output_type": "execute_result"
    },
    {
     "data": {
      "image/png": "[encoded data removed]",
      "text/plain": [
       "<Figure size 640x480 with 1 Axes>"
      ]
     },
     "metadata": {},
     "output_type": "display_data"
    }
   ],
   "source": [
    "#Creating visualization of income category by department \n",
    "crosstab_income_depart_bar =crosstab_income_depart.plot(kind = 'bar')\n",
    "crosstab_income_depart_bar.legend(title = 'Income category')\n",
    "plt.title ('Income category by department', pad =20)\n",
    "plt.xlabel('Department')"
   ]
  },
  {
   "cell_type": "markdown",
   "id": "c6c380fe",
   "metadata": {},
   "source": [
    "In this chart we can easily see that the produce products are the favorite one and is the middle income group who get these products with a higher frequency. "
   ]
  },
  {
   "cell_type": "code",
   "execution_count": 114,
   "id": "c28bdc04",
   "metadata": {},
   "outputs": [
    {
     "data": {
      "text/html": [
       "<div>\n",
       "<style scoped>\n",
       "    .dataframe tbody tr th:only-of-type {\n",
       "        vertical-align: middle;\n",
       "    }\n",
       "\n",
       "    .dataframe tbody tr th {\n",
       "        vertical-align: top;\n",
       "    }\n",
       "\n",
       "    .dataframe thead th {\n",
       "        text-align: right;\n",
       "    }\n",
       "</style>\n",
       "<table border=\"1\" class=\"dataframe\">\n",
       "  <thead>\n",
       "    <tr style=\"text-align: right;\">\n",
       "      <th>fam_status</th>\n",
       "      <th>divorced/widowed</th>\n",
       "      <th>living with parents and siblings</th>\n",
       "      <th>married</th>\n",
       "      <th>single</th>\n",
       "    </tr>\n",
       "    <tr>\n",
       "      <th>department</th>\n",
       "      <th></th>\n",
       "      <th></th>\n",
       "      <th></th>\n",
       "      <th></th>\n",
       "    </tr>\n",
       "  </thead>\n",
       "  <tbody>\n",
       "    <tr>\n",
       "      <th>alcohol</th>\n",
       "      <td>11252</td>\n",
       "      <td>8222</td>\n",
       "      <td>94528</td>\n",
       "      <td>23940</td>\n",
       "    </tr>\n",
       "    <tr>\n",
       "      <th>babies</th>\n",
       "      <td>32765</td>\n",
       "      <td>18233</td>\n",
       "      <td>271803</td>\n",
       "      <td>64938</td>\n",
       "    </tr>\n",
       "    <tr>\n",
       "      <th>bakery</th>\n",
       "      <td>90881</td>\n",
       "      <td>50998</td>\n",
       "      <td>742449</td>\n",
       "      <td>175498</td>\n",
       "    </tr>\n",
       "    <tr>\n",
       "      <th>beverages</th>\n",
       "      <td>209866</td>\n",
       "      <td>114034</td>\n",
       "      <td>1706279</td>\n",
       "      <td>400478</td>\n",
       "    </tr>\n",
       "    <tr>\n",
       "      <th>breakfast</th>\n",
       "      <td>53807</td>\n",
       "      <td>31330</td>\n",
       "      <td>443931</td>\n",
       "      <td>103687</td>\n",
       "    </tr>\n",
       "    <tr>\n",
       "      <th>bulk</th>\n",
       "      <td>2531</td>\n",
       "      <td>1525</td>\n",
       "      <td>22485</td>\n",
       "      <td>5019</td>\n",
       "    </tr>\n",
       "    <tr>\n",
       "      <th>canned goods</th>\n",
       "      <td>79967</td>\n",
       "      <td>45977</td>\n",
       "      <td>673474</td>\n",
       "      <td>157414</td>\n",
       "    </tr>\n",
       "    <tr>\n",
       "      <th>dairy eggs</th>\n",
       "      <td>419832</td>\n",
       "      <td>236749</td>\n",
       "      <td>3433939</td>\n",
       "      <td>801620</td>\n",
       "    </tr>\n",
       "    <tr>\n",
       "      <th>deli</th>\n",
       "      <td>82234</td>\n",
       "      <td>45412</td>\n",
       "      <td>664339</td>\n",
       "      <td>156814</td>\n",
       "    </tr>\n",
       "    <tr>\n",
       "      <th>dry goods pasta</th>\n",
       "      <td>66863</td>\n",
       "      <td>37510</td>\n",
       "      <td>547157</td>\n",
       "      <td>126274</td>\n",
       "    </tr>\n",
       "    <tr>\n",
       "      <th>frozen</th>\n",
       "      <td>173914</td>\n",
       "      <td>98054</td>\n",
       "      <td>1407848</td>\n",
       "      <td>326609</td>\n",
       "    </tr>\n",
       "    <tr>\n",
       "      <th>household</th>\n",
       "      <td>55126</td>\n",
       "      <td>31780</td>\n",
       "      <td>467310</td>\n",
       "      <td>105826</td>\n",
       "    </tr>\n",
       "    <tr>\n",
       "      <th>international</th>\n",
       "      <td>20747</td>\n",
       "      <td>11765</td>\n",
       "      <td>169391</td>\n",
       "      <td>40196</td>\n",
       "    </tr>\n",
       "    <tr>\n",
       "      <th>meat seafood</th>\n",
       "      <td>54894</td>\n",
       "      <td>30774</td>\n",
       "      <td>451308</td>\n",
       "      <td>102092</td>\n",
       "    </tr>\n",
       "    <tr>\n",
       "      <th>missing</th>\n",
       "      <td>4799</td>\n",
       "      <td>3076</td>\n",
       "      <td>43137</td>\n",
       "      <td>10270</td>\n",
       "    </tr>\n",
       "    <tr>\n",
       "      <th>other</th>\n",
       "      <td>2656</td>\n",
       "      <td>1735</td>\n",
       "      <td>22465</td>\n",
       "      <td>5419</td>\n",
       "    </tr>\n",
       "    <tr>\n",
       "      <th>pantry</th>\n",
       "      <td>143742</td>\n",
       "      <td>81348</td>\n",
       "      <td>1183587</td>\n",
       "      <td>275076</td>\n",
       "    </tr>\n",
       "    <tr>\n",
       "      <th>personal care</th>\n",
       "      <td>34160</td>\n",
       "      <td>19164</td>\n",
       "      <td>280702</td>\n",
       "      <td>65635</td>\n",
       "    </tr>\n",
       "    <tr>\n",
       "      <th>pets</th>\n",
       "      <td>7592</td>\n",
       "      <td>5159</td>\n",
       "      <td>60616</td>\n",
       "      <td>14486</td>\n",
       "    </tr>\n",
       "    <tr>\n",
       "      <th>produce</th>\n",
       "      <td>737854</td>\n",
       "      <td>408374</td>\n",
       "      <td>6029698</td>\n",
       "      <td>1410425</td>\n",
       "    </tr>\n",
       "    <tr>\n",
       "      <th>snacks</th>\n",
       "      <td>225141</td>\n",
       "      <td>123921</td>\n",
       "      <td>1836832</td>\n",
       "      <td>430181</td>\n",
       "    </tr>\n",
       "  </tbody>\n",
       "</table>\n",
       "</div>"
      ],
      "text/plain": [
       "fam_status       divorced/widowed  living with parents and siblings  married  \\\n",
       "department                                                                     \n",
       "alcohol                     11252                              8222    94528   \n",
       "babies                      32765                             18233   271803   \n",
       "bakery                      90881                             50998   742449   \n",
       "beverages                  209866                            114034  1706279   \n",
       "breakfast                   53807                             31330   443931   \n",
       "bulk                         2531                              1525    22485   \n",
       "canned goods                79967                             45977   673474   \n",
       "dairy eggs                 419832                            236749  3433939   \n",
       "deli                        82234                             45412   664339   \n",
       "dry goods pasta             66863                             37510   547157   \n",
       "frozen                     173914                             98054  1407848   \n",
       "household                   55126                             31780   467310   \n",
       "international               20747                             11765   169391   \n",
       "meat seafood                54894                             30774   451308   \n",
       "missing                      4799                              3076    43137   \n",
       "other                        2656                              1735    22465   \n",
       "pantry                     143742                             81348  1183587   \n",
       "personal care               34160                             19164   280702   \n",
       "pets                         7592                              5159    60616   \n",
       "produce                    737854                            408374  6029698   \n",
       "snacks                     225141                            123921  1836832   \n",
       "\n",
       "fam_status        single  \n",
       "department                \n",
       "alcohol            23940  \n",
       "babies             64938  \n",
       "bakery            175498  \n",
       "beverages         400478  \n",
       "breakfast         103687  \n",
       "bulk                5019  \n",
       "canned goods      157414  \n",
       "dairy eggs        801620  \n",
       "deli              156814  \n",
       "dry goods pasta   126274  \n",
       "frozen            326609  \n",
       "household         105826  \n",
       "international      40196  \n",
       "meat seafood      102092  \n",
       "missing            10270  \n",
       "other               5419  \n",
       "pantry            275076  \n",
       "personal care      65635  \n",
       "pets               14486  \n",
       "produce          1410425  \n",
       "snacks            430181  "
      ]
     },
     "execution_count": 114,
     "metadata": {},
     "output_type": "execute_result"
    }
   ],
   "source": [
    "#Analyzing orders by department and family status \n",
    "crosstab_fam_department = pd.crosstab(df_customers['department'], df_customers['fam_status'], dropna = False)\n",
    "crosstab_fam_department"
   ]
  },
  {
   "cell_type": "code",
   "execution_count": 118,
   "id": "9b6f8bf9",
   "metadata": {},
   "outputs": [
    {
     "data": {
      "text/plain": [
       "<matplotlib.legend.Legend at 0x1e08aa7aca0>"
      ]
     },
     "execution_count": 118,
     "metadata": {},
     "output_type": "execute_result"
    },
    {
     "data": {
      "image/png": "[encoded data removed]",
      "text/plain": [
       "<Figure size 640x480 with 1 Axes>"
      ]
     },
     "metadata": {},
     "output_type": "display_data"
    }
   ],
   "source": [
    "#Creating bar chart for department and family status \n",
    "bar_crosstab_family_depart = crosstab_fam_department.plot(kind = 'bar', stacked = True, color = ['darkblue', 'blue', 'steelblue', 'skyblue'])\n",
    "plt.xlabel('Department')\n",
    "plt.ylabel('Frequency in millions')\n",
    "plt.title ('Frequency by department and family status')\n",
    "plt.legend(title = 'Family status')"
   ]
  },
  {
   "cell_type": "markdown",
   "id": "95be9c93",
   "metadata": {},
   "source": [
    "### 9. Produce suitable charts to illustrate your results and export them in your project folder."
   ]
  },
  {
   "cell_type": "markdown",
   "id": "dc729b60",
   "metadata": {},
   "source": [
    "#### 9.1 Exporting dataframes"
   ]
  },
  {
   "cell_type": "code",
   "execution_count": 261,
   "id": "9f877436",
   "metadata": {},
   "outputs": [],
   "source": [
    "# Exporting dataframes \n",
    "df_new.to_pickle(os.path.join(path, '02 Data', 'Prepared Data', 'df_high_activity_customers.pkl'))\n",
    "df_customers.to_pickle(os.path.join(path, '02 Data', 'Prepared Data', 'df_customers_final.pkl'))"
   ]
  },
  {
   "cell_type": "markdown",
   "id": "96d6993a",
   "metadata": {},
   "source": [
    "#### 9.2 Exporting charts "
   ]
  },
  {
   "cell_type": "code",
   "execution_count": 263,
   "id": "a0709d02",
   "metadata": {},
   "outputs": [],
   "source": [
    "# Exporting Bar for Customers with babies \n",
    "parents_bar.figure.savefig(os.path.join(path, '04 Analysis', 'Visualizations', 'customers_babies_bar.png'))"
   ]
  },
  {
   "cell_type": "code",
   "execution_count": 265,
   "id": "8a824620",
   "metadata": {},
   "outputs": [],
   "source": [
    "# Exporting Customers that preferred canned foods \n",
    "canned_foods_bar.figure.savefig(os.path.join(path,'04 Analysis', 'Visualizations', 'canned_food_bar.png'))"
   ]
  },
  {
   "cell_type": "code",
   "execution_count": 270,
   "id": "c658dfed",
   "metadata": {},
   "outputs": [],
   "source": [
    "# Exporting bar of Customers that take alcohol \n",
    "alcohol_customers_bar.figure.savefig(os.path.join(path, '04 Analysis', 'Visualizations', 'alcohol_consumption_bar.png'))"
   ]
  },
  {
   "cell_type": "code",
   "execution_count": 271,
   "id": "a2dca755",
   "metadata": {},
   "outputs": [],
   "source": [
    "# Exporting bar about Week of purchase \n",
    "week_purchase_bar.figure.savefig(os.path.join(path,'04 Analysis', 'Visualizations', 'week_of_purchase_bar.png'))"
   ]
  },
  {
   "cell_type": "code",
   "execution_count": 273,
   "id": "62f1046a",
   "metadata": {},
   "outputs": [],
   "source": [
    "# Exporting bar about number of dependents s\n",
    "no_depen_bar.figure.savefig(os.path.join(path, '04 Analysis', 'Visualizations', 'no_dependents_bar.png'))"
   ]
  },
  {
   "cell_type": "code",
   "execution_count": 274,
   "id": "df1d07df",
   "metadata": {},
   "outputs": [],
   "source": [
    "# Exporting age bar \n",
    "age_bar.figure.savefig(os.path.join(path, '04 Analysis', 'Visualizations', 'age_group_bar.png'))"
   ]
  },
  {
   "cell_type": "code",
   "execution_count": 275,
   "id": "52da8eff",
   "metadata": {},
   "outputs": [],
   "source": [
    "# Exporting bar about income category \n",
    "income_bar.figure.savefig(os.path.join(path, '04 Analysis', 'Visualizations', 'income_category_bar.png'))"
   ]
  },
  {
   "cell_type": "code",
   "execution_count": 276,
   "id": "456e2796",
   "metadata": {},
   "outputs": [],
   "source": [
    "# Exporting bar about spender criteria by region\n",
    "spender_crosstab_bar.figure.savefig(os.path.join(path, '04 Analysis', 'Visualizations', 'spender_criteria_by_region.png'))"
   ]
  },
  {
   "cell_type": "code",
   "execution_count": 277,
   "id": "5301ccbb",
   "metadata": {},
   "outputs": [],
   "source": [
    "# Exporting bar about income category by region \n",
    "crosstab_income_cat_regions_bar.figure.savefig(os.path.join(path, '04 Analysis', 'Visualizations', 'income_cat_region.png'))"
   ]
  },
  {
   "cell_type": "code",
   "execution_count": 278,
   "id": "bf311272",
   "metadata": {},
   "outputs": [],
   "source": [
    "# Exporting low and high spender bar by region \n",
    "crosstab_spender_region_bar.figure.savefig(os.path.join(path, '04 Analysis', 'Visualizations', 'spender_crite_region.png'))"
   ]
  },
  {
   "cell_type": "code",
   "execution_count": 279,
   "id": "46ce9145",
   "metadata": {},
   "outputs": [],
   "source": [
    "# Exporting bar by age group and region \n",
    "crosstab_age_regions_groups.figure.savefig(os.path.join(path, '04 Analysis', 'Visualizations', 'age_region.png'))"
   ]
  },
  {
   "cell_type": "code",
   "execution_count": 280,
   "id": "a5dbc8d0",
   "metadata": {},
   "outputs": [],
   "source": [
    "# Exporting details by department and age group \n",
    "crosstab_age_dept_bar.figure.savefig(os.path.join(path, '04 Analysis', 'Visualizations', 'age_department.png'))"
   ]
  },
  {
   "cell_type": "code",
   "execution_count": 281,
   "id": "577e1c51",
   "metadata": {},
   "outputs": [],
   "source": [
    "# Exporting details by income category and department \n",
    "crosstab_income_depart_bar.figure.savefig(os.path.join(path, '04 Analysis', 'Visualizations','income_department.png'))"
   ]
  },
  {
   "cell_type": "code",
   "execution_count": null,
   "id": "95546cfb",
   "metadata": {},
   "outputs": [],
   "source": []
  }
 ],
 "metadata": {
  "kernelspec": {
   "display_name": "Python 3 (ipykernel)",
   "language": "python",
   "name": "python3"
  },
  "language_info": {
   "codemirror_mode": {
    "name": "ipython",
    "version": 3
   },
   "file_extension": ".py",
   "mimetype": "text/x-python",
   "name": "python",
   "nbconvert_exporter": "python",
   "pygments_lexer": "ipython3",
   "version": "3.9.13"
  }
 },
 "nbformat": 4,
 "nbformat_minor": 5
}
